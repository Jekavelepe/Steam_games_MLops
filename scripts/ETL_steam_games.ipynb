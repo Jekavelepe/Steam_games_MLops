{
 "cells": [
  {
   "cell_type": "markdown",
   "metadata": {},
   "source": [
    "DATAFRAME_STEAM_GAMES"
   ]
  },
  {
   "cell_type": "markdown",
   "metadata": {},
   "source": [
    "Como primer paso se deben importar las respectivas librerias a usar"
   ]
  },
  {
   "cell_type": "code",
   "execution_count": 1,
   "metadata": {},
   "outputs": [],
   "source": [
    "# En este caso se van a importan las librerias que se van a utilizar en este proyecto\n",
    "import gzip\n",
    "import ast\n",
    "import pandas as pd\n",
    "import nltk"
   ]
  },
  {
   "cell_type": "markdown",
   "metadata": {},
   "source": [
    "Como siguiente paso se define donde esta la ruta del archivo JSON comprimido donde esta alojada la informacion de data_steam_game "
   ]
  },
  {
   "cell_type": "code",
   "execution_count": 2,
   "metadata": {},
   "outputs": [
    {
     "name": "stdout",
     "output_type": "stream",
     "text": [
      "<class 'pandas.core.frame.DataFrame'>\n",
      "RangeIndex: 120445 entries, 0 to 120444\n",
      "Data columns (total 13 columns):\n",
      " #   Column        Non-Null Count  Dtype  \n",
      "---  ------        --------------  -----  \n",
      " 0   publisher     24083 non-null  object \n",
      " 1   genres        28852 non-null  object \n",
      " 2   app_name      32133 non-null  object \n",
      " 3   title         30085 non-null  object \n",
      " 4   url           32135 non-null  object \n",
      " 5   release_date  30068 non-null  object \n",
      " 6   tags          31972 non-null  object \n",
      " 7   reviews_url   32133 non-null  object \n",
      " 8   specs         31465 non-null  object \n",
      " 9   price         30758 non-null  object \n",
      " 10  early_access  32135 non-null  float64\n",
      " 11  id            32133 non-null  float64\n",
      " 12  developer     28836 non-null  object \n",
      "dtypes: float64(2), object(11)\n",
      "memory usage: 11.9+ MB\n"
     ]
    }
   ],
   "source": [
    "# Aqui con la siguiente linea de codigo se va leer el archivo json\n",
    "df_steam_games = pd.read_json('../datasets/steam_games.json.gz', compression='gzip', lines=True)\n",
    "df_steam_games.info()"
   ]
  },
  {
   "cell_type": "markdown",
   "metadata": {},
   "source": [
    "Aqui vamos a mostrae las primeras 5 filas del DataFrame steam_games, lo que te dará una idea de cómo se ven los datos y qué tipo de información contienen. "
   ]
  },
  {
   "cell_type": "code",
   "execution_count": 3,
   "metadata": {},
   "outputs": [
    {
     "data": {
      "text/html": [
       "<div>\n",
       "<style scoped>\n",
       "    .dataframe tbody tr th:only-of-type {\n",
       "        vertical-align: middle;\n",
       "    }\n",
       "\n",
       "    .dataframe tbody tr th {\n",
       "        vertical-align: top;\n",
       "    }\n",
       "\n",
       "    .dataframe thead th {\n",
       "        text-align: right;\n",
       "    }\n",
       "</style>\n",
       "<table border=\"1\" class=\"dataframe\">\n",
       "  <thead>\n",
       "    <tr style=\"text-align: right;\">\n",
       "      <th></th>\n",
       "      <th>publisher</th>\n",
       "      <th>genres</th>\n",
       "      <th>app_name</th>\n",
       "      <th>title</th>\n",
       "      <th>url</th>\n",
       "      <th>release_date</th>\n",
       "      <th>tags</th>\n",
       "      <th>reviews_url</th>\n",
       "      <th>specs</th>\n",
       "      <th>price</th>\n",
       "      <th>early_access</th>\n",
       "      <th>id</th>\n",
       "      <th>developer</th>\n",
       "    </tr>\n",
       "  </thead>\n",
       "  <tbody>\n",
       "    <tr>\n",
       "      <th>0</th>\n",
       "      <td>None</td>\n",
       "      <td>None</td>\n",
       "      <td>None</td>\n",
       "      <td>None</td>\n",
       "      <td>None</td>\n",
       "      <td>None</td>\n",
       "      <td>None</td>\n",
       "      <td>None</td>\n",
       "      <td>None</td>\n",
       "      <td>None</td>\n",
       "      <td>NaN</td>\n",
       "      <td>NaN</td>\n",
       "      <td>None</td>\n",
       "    </tr>\n",
       "    <tr>\n",
       "      <th>1</th>\n",
       "      <td>None</td>\n",
       "      <td>None</td>\n",
       "      <td>None</td>\n",
       "      <td>None</td>\n",
       "      <td>None</td>\n",
       "      <td>None</td>\n",
       "      <td>None</td>\n",
       "      <td>None</td>\n",
       "      <td>None</td>\n",
       "      <td>None</td>\n",
       "      <td>NaN</td>\n",
       "      <td>NaN</td>\n",
       "      <td>None</td>\n",
       "    </tr>\n",
       "    <tr>\n",
       "      <th>2</th>\n",
       "      <td>None</td>\n",
       "      <td>None</td>\n",
       "      <td>None</td>\n",
       "      <td>None</td>\n",
       "      <td>None</td>\n",
       "      <td>None</td>\n",
       "      <td>None</td>\n",
       "      <td>None</td>\n",
       "      <td>None</td>\n",
       "      <td>None</td>\n",
       "      <td>NaN</td>\n",
       "      <td>NaN</td>\n",
       "      <td>None</td>\n",
       "    </tr>\n",
       "    <tr>\n",
       "      <th>3</th>\n",
       "      <td>None</td>\n",
       "      <td>None</td>\n",
       "      <td>None</td>\n",
       "      <td>None</td>\n",
       "      <td>None</td>\n",
       "      <td>None</td>\n",
       "      <td>None</td>\n",
       "      <td>None</td>\n",
       "      <td>None</td>\n",
       "      <td>None</td>\n",
       "      <td>NaN</td>\n",
       "      <td>NaN</td>\n",
       "      <td>None</td>\n",
       "    </tr>\n",
       "    <tr>\n",
       "      <th>4</th>\n",
       "      <td>None</td>\n",
       "      <td>None</td>\n",
       "      <td>None</td>\n",
       "      <td>None</td>\n",
       "      <td>None</td>\n",
       "      <td>None</td>\n",
       "      <td>None</td>\n",
       "      <td>None</td>\n",
       "      <td>None</td>\n",
       "      <td>None</td>\n",
       "      <td>NaN</td>\n",
       "      <td>NaN</td>\n",
       "      <td>None</td>\n",
       "    </tr>\n",
       "  </tbody>\n",
       "</table>\n",
       "</div>"
      ],
      "text/plain": [
       "  publisher genres app_name title   url release_date  tags reviews_url specs  \\\n",
       "0      None   None     None  None  None         None  None        None  None   \n",
       "1      None   None     None  None  None         None  None        None  None   \n",
       "2      None   None     None  None  None         None  None        None  None   \n",
       "3      None   None     None  None  None         None  None        None  None   \n",
       "4      None   None     None  None  None         None  None        None  None   \n",
       "\n",
       "  price  early_access  id developer  \n",
       "0  None           NaN NaN      None  \n",
       "1  None           NaN NaN      None  \n",
       "2  None           NaN NaN      None  \n",
       "3  None           NaN NaN      None  \n",
       "4  None           NaN NaN      None  "
      ]
     },
     "execution_count": 3,
     "metadata": {},
     "output_type": "execute_result"
    }
   ],
   "source": [
    "df_steam_games.head()\n"
   ]
  },
  {
   "cell_type": "markdown",
   "metadata": {},
   "source": [
    "Para el proceso de creación de funciones para los endpoints, es fundamental identificar las columnas que se utilizarán. Una vez identificadas, se inicia el proceso de limpieza de datos. Una de las primeras tareas en este proceso es eliminar las filas que contienen valores nulos, ya que estos pueden afectar negativamente el rendimiento de los modelos o la precisión de los resultados.\n",
    "\n",
    "Por ende se identifican las columnas y se hace la respectiva eliminación de filas con valores nulos, para asegurar que los datos con los que se trabajará estén completos y sean consistentes. Esto es importante para evitar problemas durante el análisis y para garantizar la calidad de los resultados finales.\n",
    "\n",
    "En las siguientes lineas del código primero elimina las filas que están completamente compuestas por valores nulos en el DataFrame steam_games, y luego calcula la cantidad de valores nulos que quedan en cada columna después de la eliminación. Esto es útil para verificar cuántos valores nulos quedan en el conjunto de datos después de realizar la limpieza inicial."
   ]
  },
  {
   "cell_type": "code",
   "execution_count": 4,
   "metadata": {},
   "outputs": [
    {
     "data": {
      "text/plain": [
       "publisher       8052\n",
       "genres          3283\n",
       "app_name           2\n",
       "title           2050\n",
       "url                0\n",
       "release_date    2067\n",
       "tags             163\n",
       "reviews_url        2\n",
       "specs            670\n",
       "price           1377\n",
       "early_access       0\n",
       "id                 2\n",
       "developer       3299\n",
       "dtype: int64"
      ]
     },
     "execution_count": 4,
     "metadata": {},
     "output_type": "execute_result"
    }
   ],
   "source": [
    "df_steam_games.dropna(how=\"all\", inplace=True  )\n",
    "df_steam_games.isnull().sum()"
   ]
  },
  {
   "cell_type": "markdown",
   "metadata": {},
   "source": [
    "Para cambiar el tipo de dato en la columna \"id\", primero es necesario identificar si esta columna contiene valores nulos. esto nos ayuda a mostrar solo las filas donde el valor en la columna \"id\" es nulo. Al hacerlo, se identifican las filas específicas que contienen valores nulos en la columna \"id\". Esta información es crucial antes de intentar cambiar el tipo de dato de la columna, ya que los valores nulos pueden afectar la conversión de tipos de datos. Para hacerlo, se utiliza la siguiente línea de código:"
   ]
  },
  {
   "cell_type": "code",
   "execution_count": 5,
   "metadata": {},
   "outputs": [
    {
     "data": {
      "text/html": [
       "<div>\n",
       "<style scoped>\n",
       "    .dataframe tbody tr th:only-of-type {\n",
       "        vertical-align: middle;\n",
       "    }\n",
       "\n",
       "    .dataframe tbody tr th {\n",
       "        vertical-align: top;\n",
       "    }\n",
       "\n",
       "    .dataframe thead th {\n",
       "        text-align: right;\n",
       "    }\n",
       "</style>\n",
       "<table border=\"1\" class=\"dataframe\">\n",
       "  <thead>\n",
       "    <tr style=\"text-align: right;\">\n",
       "      <th></th>\n",
       "      <th>publisher</th>\n",
       "      <th>genres</th>\n",
       "      <th>app_name</th>\n",
       "      <th>title</th>\n",
       "      <th>url</th>\n",
       "      <th>release_date</th>\n",
       "      <th>tags</th>\n",
       "      <th>reviews_url</th>\n",
       "      <th>specs</th>\n",
       "      <th>price</th>\n",
       "      <th>early_access</th>\n",
       "      <th>id</th>\n",
       "      <th>developer</th>\n",
       "    </tr>\n",
       "  </thead>\n",
       "  <tbody>\n",
       "    <tr>\n",
       "      <th>88384</th>\n",
       "      <td>None</td>\n",
       "      <td>None</td>\n",
       "      <td>None</td>\n",
       "      <td>None</td>\n",
       "      <td>http://store.steampowered.com/</td>\n",
       "      <td>None</td>\n",
       "      <td>None</td>\n",
       "      <td>None</td>\n",
       "      <td>None</td>\n",
       "      <td>19.99</td>\n",
       "      <td>0.0</td>\n",
       "      <td>NaN</td>\n",
       "      <td>None</td>\n",
       "    </tr>\n",
       "    <tr>\n",
       "      <th>119271</th>\n",
       "      <td>Warner Bros. Interactive Entertainment, Feral ...</td>\n",
       "      <td>[Action, Adventure]</td>\n",
       "      <td>Batman: Arkham City - Game of the Year Edition</td>\n",
       "      <td>Batman: Arkham City - Game of the Year Edition</td>\n",
       "      <td>http://store.steampowered.com/app/200260</td>\n",
       "      <td>2012-09-07</td>\n",
       "      <td>[Action, Open World, Batman, Adventure, Stealt...</td>\n",
       "      <td>None</td>\n",
       "      <td>[Single-player, Steam Achievements, Steam Trad...</td>\n",
       "      <td>19.99</td>\n",
       "      <td>0.0</td>\n",
       "      <td>NaN</td>\n",
       "      <td>Rocksteady Studios,Feral Interactive (Mac)</td>\n",
       "    </tr>\n",
       "  </tbody>\n",
       "</table>\n",
       "</div>"
      ],
      "text/plain": [
       "                                                publisher  \\\n",
       "88384                                                None   \n",
       "119271  Warner Bros. Interactive Entertainment, Feral ...   \n",
       "\n",
       "                     genres                                        app_name  \\\n",
       "88384                  None                                            None   \n",
       "119271  [Action, Adventure]  Batman: Arkham City - Game of the Year Edition   \n",
       "\n",
       "                                                 title  \\\n",
       "88384                                             None   \n",
       "119271  Batman: Arkham City - Game of the Year Edition   \n",
       "\n",
       "                                             url release_date  \\\n",
       "88384             http://store.steampowered.com/         None   \n",
       "119271  http://store.steampowered.com/app/200260   2012-09-07   \n",
       "\n",
       "                                                     tags reviews_url  \\\n",
       "88384                                                None        None   \n",
       "119271  [Action, Open World, Batman, Adventure, Stealt...        None   \n",
       "\n",
       "                                                    specs  price  \\\n",
       "88384                                                None  19.99   \n",
       "119271  [Single-player, Steam Achievements, Steam Trad...  19.99   \n",
       "\n",
       "        early_access  id                                   developer  \n",
       "88384            0.0 NaN                                        None  \n",
       "119271           0.0 NaN  Rocksteady Studios,Feral Interactive (Mac)  "
      ]
     },
     "execution_count": 5,
     "metadata": {},
     "output_type": "execute_result"
    }
   ],
   "source": [
    "df_steam_games[df_steam_games[\"id\"].isnull()]"
   ]
  },
  {
   "cell_type": "markdown",
   "metadata": {},
   "source": [
    "Se identificó que la fila 88384 solo contiene la URL, la cual no parece ser relevante para el análisis de datos. Por esta razón, se procede a eliminar esta fila del DataFrame, ya que no aporta información útil para el análisis.\n",
    "\n",
    "Por otro lado, para la fila 119271, que contiene casi toda la información necesaria, se realizará un filtrado para identificar si existe un duplicado de esta fila en el DataFrame. Dado que esta fila parece ser importante y completa, la presencia de un duplicado podría indicar un error en los datos o una repetición que debe ser investigada. Identificar y tratar los duplicados es importante para mantener la integridad y la precisión de los datos antes de realizar análisis posteriores."
   ]
  },
  {
   "cell_type": "code",
   "execution_count": 6,
   "metadata": {},
   "outputs": [
    {
     "data": {
      "text/html": [
       "<div>\n",
       "<style scoped>\n",
       "    .dataframe tbody tr th:only-of-type {\n",
       "        vertical-align: middle;\n",
       "    }\n",
       "\n",
       "    .dataframe tbody tr th {\n",
       "        vertical-align: top;\n",
       "    }\n",
       "\n",
       "    .dataframe thead th {\n",
       "        text-align: right;\n",
       "    }\n",
       "</style>\n",
       "<table border=\"1\" class=\"dataframe\">\n",
       "  <thead>\n",
       "    <tr style=\"text-align: right;\">\n",
       "      <th></th>\n",
       "      <th>publisher</th>\n",
       "      <th>genres</th>\n",
       "      <th>app_name</th>\n",
       "      <th>title</th>\n",
       "      <th>url</th>\n",
       "      <th>release_date</th>\n",
       "      <th>tags</th>\n",
       "      <th>reviews_url</th>\n",
       "      <th>specs</th>\n",
       "      <th>price</th>\n",
       "      <th>early_access</th>\n",
       "      <th>id</th>\n",
       "      <th>developer</th>\n",
       "    </tr>\n",
       "  </thead>\n",
       "  <tbody>\n",
       "    <tr>\n",
       "      <th>89378</th>\n",
       "      <td>Warner Bros. Interactive Entertainment, Feral ...</td>\n",
       "      <td>[Action, Adventure]</td>\n",
       "      <td>Batman: Arkham City - Game of the Year Edition</td>\n",
       "      <td>Batman: Arkham City - Game of the Year Edition</td>\n",
       "      <td>http://store.steampowered.com/app/200260/Batma...</td>\n",
       "      <td>2012-09-07</td>\n",
       "      <td>[Action, Open World, Batman, Adventure, Stealt...</td>\n",
       "      <td>http://steamcommunity.com/app/200260/reviews/?...</td>\n",
       "      <td>[Single-player, Steam Achievements, Steam Trad...</td>\n",
       "      <td>19.99</td>\n",
       "      <td>0.0</td>\n",
       "      <td>200260.0</td>\n",
       "      <td>Rocksteady Studios,Feral Interactive (Mac)</td>\n",
       "    </tr>\n",
       "    <tr>\n",
       "      <th>119271</th>\n",
       "      <td>Warner Bros. Interactive Entertainment, Feral ...</td>\n",
       "      <td>[Action, Adventure]</td>\n",
       "      <td>Batman: Arkham City - Game of the Year Edition</td>\n",
       "      <td>Batman: Arkham City - Game of the Year Edition</td>\n",
       "      <td>http://store.steampowered.com/app/200260</td>\n",
       "      <td>2012-09-07</td>\n",
       "      <td>[Action, Open World, Batman, Adventure, Stealt...</td>\n",
       "      <td>None</td>\n",
       "      <td>[Single-player, Steam Achievements, Steam Trad...</td>\n",
       "      <td>19.99</td>\n",
       "      <td>0.0</td>\n",
       "      <td>NaN</td>\n",
       "      <td>Rocksteady Studios,Feral Interactive (Mac)</td>\n",
       "    </tr>\n",
       "  </tbody>\n",
       "</table>\n",
       "</div>"
      ],
      "text/plain": [
       "                                                publisher  \\\n",
       "89378   Warner Bros. Interactive Entertainment, Feral ...   \n",
       "119271  Warner Bros. Interactive Entertainment, Feral ...   \n",
       "\n",
       "                     genres                                        app_name  \\\n",
       "89378   [Action, Adventure]  Batman: Arkham City - Game of the Year Edition   \n",
       "119271  [Action, Adventure]  Batman: Arkham City - Game of the Year Edition   \n",
       "\n",
       "                                                 title  \\\n",
       "89378   Batman: Arkham City - Game of the Year Edition   \n",
       "119271  Batman: Arkham City - Game of the Year Edition   \n",
       "\n",
       "                                                      url release_date  \\\n",
       "89378   http://store.steampowered.com/app/200260/Batma...   2012-09-07   \n",
       "119271           http://store.steampowered.com/app/200260   2012-09-07   \n",
       "\n",
       "                                                     tags  \\\n",
       "89378   [Action, Open World, Batman, Adventure, Stealt...   \n",
       "119271  [Action, Open World, Batman, Adventure, Stealt...   \n",
       "\n",
       "                                              reviews_url  \\\n",
       "89378   http://steamcommunity.com/app/200260/reviews/?...   \n",
       "119271                                               None   \n",
       "\n",
       "                                                    specs  price  \\\n",
       "89378   [Single-player, Steam Achievements, Steam Trad...  19.99   \n",
       "119271  [Single-player, Steam Achievements, Steam Trad...  19.99   \n",
       "\n",
       "        early_access        id                                   developer  \n",
       "89378            0.0  200260.0  Rocksteady Studios,Feral Interactive (Mac)  \n",
       "119271           0.0       NaN  Rocksteady Studios,Feral Interactive (Mac)  "
      ]
     },
     "execution_count": 6,
     "metadata": {},
     "output_type": "execute_result"
    }
   ],
   "source": [
    "df_steam_games[(df_steam_games['title']==\"Batman: Arkham City - Game of the Year Edition\") & (df_steam_games['developer']==\"Rocksteady Studios,Feral Interactive (Mac)\")]\n"
   ]
  },
  {
   "cell_type": "markdown",
   "metadata": {},
   "source": [
    "Durante el análisis de los datos, se descubrió que existe otra fila que contiene la misma información que la fila 119271, pero esta vez asociada a un \"id\". Dado que la presencia de la columna \"id\" es importante para identificar de manera única cada entrada en el conjunto de datos, se decidió eliminar la fila que no tiene un valor válido en la columna \"id\". Esto se hace para evitar redundancias y garantizar la integridad de los datos en el análisis posterior."
   ]
  },
  {
   "cell_type": "code",
   "execution_count": 7,
   "metadata": {},
   "outputs": [],
   "source": [
    "df_steam_games.dropna(subset=['id'], inplace=True) #elimina filas de la columna id que son null"
   ]
  },
  {
   "cell_type": "markdown",
   "metadata": {},
   "source": [
    "Luego se hace la respectiva verificacion de que la columna \"id\" no tenga duplicados."
   ]
  },
  {
   "cell_type": "code",
   "execution_count": 8,
   "metadata": {},
   "outputs": [
    {
     "data": {
      "text/html": [
       "<div>\n",
       "<style scoped>\n",
       "    .dataframe tbody tr th:only-of-type {\n",
       "        vertical-align: middle;\n",
       "    }\n",
       "\n",
       "    .dataframe tbody tr th {\n",
       "        vertical-align: top;\n",
       "    }\n",
       "\n",
       "    .dataframe thead th {\n",
       "        text-align: right;\n",
       "    }\n",
       "</style>\n",
       "<table border=\"1\" class=\"dataframe\">\n",
       "  <thead>\n",
       "    <tr style=\"text-align: right;\">\n",
       "      <th></th>\n",
       "      <th>publisher</th>\n",
       "      <th>genres</th>\n",
       "      <th>app_name</th>\n",
       "      <th>title</th>\n",
       "      <th>url</th>\n",
       "      <th>release_date</th>\n",
       "      <th>tags</th>\n",
       "      <th>reviews_url</th>\n",
       "      <th>specs</th>\n",
       "      <th>price</th>\n",
       "      <th>early_access</th>\n",
       "      <th>id</th>\n",
       "      <th>developer</th>\n",
       "    </tr>\n",
       "  </thead>\n",
       "  <tbody>\n",
       "    <tr>\n",
       "      <th>102204</th>\n",
       "      <td>Bethesda Softworks</td>\n",
       "      <td>[Action]</td>\n",
       "      <td>Wolfenstein II: The New Colossus</td>\n",
       "      <td>Wolfenstein II: The New Colossus</td>\n",
       "      <td>http://store.steampowered.com/app/612880/</td>\n",
       "      <td>2017-10-26</td>\n",
       "      <td>[Action, FPS, Gore, Violent, Alternate History...</td>\n",
       "      <td>http://steamcommunity.com/app/612880/reviews/?...</td>\n",
       "      <td>[Single-player, Steam Achievements, Full contr...</td>\n",
       "      <td>59.99</td>\n",
       "      <td>0.0</td>\n",
       "      <td>612880.0</td>\n",
       "      <td>Machine Games</td>\n",
       "    </tr>\n",
       "    <tr>\n",
       "      <th>102883</th>\n",
       "      <td>Bethesda Softworks</td>\n",
       "      <td>[Action]</td>\n",
       "      <td>Wolfenstein II: The New Colossus</td>\n",
       "      <td>Wolfenstein II: The New Colossus</td>\n",
       "      <td>http://store.steampowered.com/app/612880/Wolfe...</td>\n",
       "      <td>2017-10-26</td>\n",
       "      <td>[Action, FPS, Gore, Violent, Alternate History...</td>\n",
       "      <td>http://steamcommunity.com/app/612880/reviews/?...</td>\n",
       "      <td>[Single-player, Steam Achievements, Full contr...</td>\n",
       "      <td>59.99</td>\n",
       "      <td>0.0</td>\n",
       "      <td>612880.0</td>\n",
       "      <td>Machine Games</td>\n",
       "    </tr>\n",
       "  </tbody>\n",
       "</table>\n",
       "</div>"
      ],
      "text/plain": [
       "                 publisher    genres                          app_name  \\\n",
       "102204  Bethesda Softworks  [Action]  Wolfenstein II: The New Colossus   \n",
       "102883  Bethesda Softworks  [Action]  Wolfenstein II: The New Colossus   \n",
       "\n",
       "                                   title  \\\n",
       "102204  Wolfenstein II: The New Colossus   \n",
       "102883  Wolfenstein II: The New Colossus   \n",
       "\n",
       "                                                      url release_date  \\\n",
       "102204          http://store.steampowered.com/app/612880/   2017-10-26   \n",
       "102883  http://store.steampowered.com/app/612880/Wolfe...   2017-10-26   \n",
       "\n",
       "                                                     tags  \\\n",
       "102204  [Action, FPS, Gore, Violent, Alternate History...   \n",
       "102883  [Action, FPS, Gore, Violent, Alternate History...   \n",
       "\n",
       "                                              reviews_url  \\\n",
       "102204  http://steamcommunity.com/app/612880/reviews/?...   \n",
       "102883  http://steamcommunity.com/app/612880/reviews/?...   \n",
       "\n",
       "                                                    specs  price  \\\n",
       "102204  [Single-player, Steam Achievements, Full contr...  59.99   \n",
       "102883  [Single-player, Steam Achievements, Full contr...  59.99   \n",
       "\n",
       "        early_access        id      developer  \n",
       "102204           0.0  612880.0  Machine Games  \n",
       "102883           0.0  612880.0  Machine Games  "
      ]
     },
     "execution_count": 8,
     "metadata": {},
     "output_type": "execute_result"
    }
   ],
   "source": [
    "df_steam_games[df_steam_games.duplicated(subset=['id'], keep=False)]\n"
   ]
  },
  {
   "cell_type": "markdown",
   "metadata": {},
   "source": [
    "Dado que la columna \"id\" no debería tener valores duplicados, se tomó la decisión de eliminar una de las filas que tiene un \"id\" duplicado. Esto se hace para mantener la integridad de los datos y asegurar que cada \"id\" sea único en el conjunto de datos, lo que facilita su uso como identificador único para cada entrada."
   ]
  },
  {
   "cell_type": "code",
   "execution_count": 9,
   "metadata": {},
   "outputs": [],
   "source": [
    "df_steam_games.drop_duplicates(subset=\"id\", inplace=True, keep=\"last\")"
   ]
  },
  {
   "cell_type": "markdown",
   "metadata": {},
   "source": [
    "Después de realizar las operaciones de limpieza y eliminación de duplicados, el conjunto de datos está listo para que se pueda cambiar el tipo de dato de la columna \"id\". Esto significa que se han realizado las preparaciones necesarias para que la conversión de tipo de dato sea segura y precisa, lo que contribuye a la calidad y la coherencia de los datos en el análisis subsiguiente."
   ]
  },
  {
   "cell_type": "code",
   "execution_count": 10,
   "metadata": {},
   "outputs": [],
   "source": [
    "df_steam_games[\"id\"] = df_steam_games[\"id\"].astype(int)"
   ]
  },
  {
   "cell_type": "markdown",
   "metadata": {},
   "source": [
    "Realizamos la respectiva verificacion de nulos en el DataFrame Steam_games, con la siguiente linea devuelve una serie que muestra la cantidad de valores nulos en cada columna del DataFrame steam_games. Esta información es útil para comprender la calidad de los datos y determinar si se necesitan más operaciones de limpieza o imputación de valores nulos antes de realizar análisis o modelado de datos."
   ]
  },
  {
   "cell_type": "code",
   "execution_count": 11,
   "metadata": {},
   "outputs": [
    {
     "data": {
      "text/plain": [
       "publisher       8051\n",
       "genres          3282\n",
       "app_name           1\n",
       "title           2049\n",
       "url                0\n",
       "release_date    2066\n",
       "tags             162\n",
       "reviews_url        0\n",
       "specs            669\n",
       "price           1377\n",
       "early_access       0\n",
       "id                 0\n",
       "developer       3298\n",
       "dtype: int64"
      ]
     },
     "execution_count": 11,
     "metadata": {},
     "output_type": "execute_result"
    }
   ],
   "source": [
    "df_steam_games.isnull().sum()"
   ]
  },
  {
   "cell_type": "markdown",
   "metadata": {},
   "source": [
    "Para verificar los valores nulos en la columna \"genres\", que será utilizada más adelante en las funciones, se comparó con la columna \"tags\", que contiene información similar. Esto se hizo para identificar cuántos valores nulos quedarían si se cruzara la información de ambas columnas.\n",
    "\n",
    "En el siguiente código la función shape devuelve las dimensiones del DataFrame resultante, es decir, el número de filas y columnas que cumplen con la condición especificada. Con ello vamos a proporcionar una forma de determinar cuántas filas tienen valores nulos en las columnas \"genres\" y \"tags\" al mismo tiempo, lo que puede ser útil para evaluar la integridad de los datos antes de utilizar estas columnas en análisis posteriores."
   ]
  },
  {
   "cell_type": "code",
   "execution_count": 12,
   "metadata": {},
   "outputs": [
    {
     "data": {
      "text/plain": [
       "(138, 13)"
      ]
     },
     "execution_count": 12,
     "metadata": {},
     "output_type": "execute_result"
    }
   ],
   "source": [
    "df_steam_games[(df_steam_games[\"genres\"].isnull()) & (df_steam_games[\"tags\"].isnull())].shape"
   ]
  },
  {
   "cell_type": "markdown",
   "metadata": {},
   "source": [
    "Los valores nulos en la columna \"genres\" se reemplazaron por los datos de la columna \"tags\". Esto se hizo porque, en algunas filas, el contenido de ambas columnas es similar o idéntico, con pequeñas diferencias en el orden de los elementos o en la forma en que están presentados. Al hacer este reemplazo, se busca aprovechar la información disponible en la columna \"tags\" para completar o mejorar los datos faltantes en la columna \"genres\", lo que puede ser útil para análisis posteriores."
   ]
  },
  {
   "cell_type": "code",
   "execution_count": 13,
   "metadata": {},
   "outputs": [],
   "source": [
    "# Aqui se va realizar la creacion de un conjunto de géneros únicos \n",
    "genre_dist = set(item for val in df_steam_games['genres'].dropna() for item in val)\n",
    "\n",
    "# Para luego se pueda realizar el proceso de filtrado de las etiquetas 'tags' \n",
    "df_steam_games['tags'] = df_steam_games['tags'].apply(lambda x: [item for item in x if item in genre_dist] if isinstance(x, list) else x) \n",
    "\n",
    "# para despues rellenar los valores nulos en la columna 'genres' \n",
    "df_steam_games['genres'].fillna(df_steam_games['tags'], inplace=True)\n",
    "\n",
    "def tags_to_genres(row): \n",
    "    ''' Esta función añade valores de 'tags' a 'genres' que no estén ya'''\n",
    "    genres = row['genres']\n",
    "    tags = row['tags']\n",
    "    if isinstance(tags, list) and isinstance(genres, list):\n",
    "        for tag in tags:\n",
    "            if tag not in genres:\n",
    "                genres.append(tag)\n",
    "    return genres\n",
    "\n"
   ]
  },
  {
   "cell_type": "code",
   "execution_count": 14,
   "metadata": {},
   "outputs": [],
   "source": [
    "#Aqui se utiliza la funcion\n",
    "df_steam_games['genres'] = df_steam_games.apply(lambda row: tags_to_genres(row), axis=1)"
   ]
  },
  {
   "cell_type": "code",
   "execution_count": 15,
   "metadata": {},
   "outputs": [],
   "source": [
    "# Se elimina la columna 'tags'\n",
    "df_steam_games.drop(columns=['tags'], inplace=True)"
   ]
  },
  {
   "cell_type": "markdown",
   "metadata": {},
   "source": [
    "Decidimos eliminar los valores nulos de la columna \"genres\" ya que no podemos manejarlos adecuadamente para nuestro análisis. Al eliminar estos valores nulos, aseguramos que los datos en la columna \"genres\" estén completos y listos para su uso en análisis posteriores. Tambien Visualizamos el % de nulos."
   ]
  },
  {
   "cell_type": "code",
   "execution_count": 16,
   "metadata": {},
   "outputs": [
    {
     "data": {
      "text/plain": [
       "0.42947840159342715"
      ]
     },
     "execution_count": 16,
     "metadata": {},
     "output_type": "execute_result"
    }
   ],
   "source": [
    "(df_steam_games['genres'].isnull().sum() / df_steam_games.shape[0])*100 #Con esto podemos visualizar el % de nulos"
   ]
  },
  {
   "cell_type": "markdown",
   "metadata": {},
   "source": [
    "En la siguiente línea de código nos proporciona el recuento total de valores nulos en la columna \"genres\" del DataFrame steam_games, lo que es útil para evaluar la calidad y la integridad de los datos antes de realizar análisis posteriores."
   ]
  },
  {
   "cell_type": "code",
   "execution_count": 17,
   "metadata": {},
   "outputs": [
    {
     "data": {
      "text/plain": [
       "138"
      ]
     },
     "execution_count": 17,
     "metadata": {},
     "output_type": "execute_result"
    }
   ],
   "source": [
    "df_steam_games['genres'].isnull().sum()"
   ]
  },
  {
   "cell_type": "markdown",
   "metadata": {},
   "source": [
    "Se elimna los nulos que quedaron en la columna \"genres\""
   ]
  },
  {
   "cell_type": "code",
   "execution_count": 18,
   "metadata": {},
   "outputs": [],
   "source": [
    "df_steam_games_clean = df_steam_games[df_steam_games['genres'].notnull()]"
   ]
  },
  {
   "cell_type": "markdown",
   "metadata": {},
   "source": [
    "En el siguiente codigo vamos a revisar la columna release_date que es necesaria para hacer la primer función. Esto es útil para entender la distribución de las fechas de lanzamiento y puede ser útil para análisis posteriores, como la creación de una función que requiera esta información."
   ]
  },
  {
   "cell_type": "code",
   "execution_count": 19,
   "metadata": {},
   "outputs": [
    {
     "data": {
      "text/plain": [
       "release_date\n",
       "2012-10-16            100\n",
       "2017-08-31             92\n",
       "2017-09-26             89\n",
       "2017-06-21             82\n",
       "2017-07-25             78\n",
       "                     ... \n",
       "2017 Q4                 1\n",
       "Play Beta in demo!      1\n",
       "1970-07-15              1\n",
       "1975-12-31              1\n",
       "2018-10-01              1\n",
       "Name: count, Length: 3579, dtype: int64"
      ]
     },
     "execution_count": 19,
     "metadata": {},
     "output_type": "execute_result"
    }
   ],
   "source": [
    "df_steam_games_clean[\"release_date\"].value_counts() # Obtenemos la cantidad de veces que aparece cada fecha de lanzamiento en la columna \"release_date\""
   ]
  },
  {
   "cell_type": "markdown",
   "metadata": {},
   "source": [
    "Para extraer el año que vamos a utilizar en la función, creamos una nueva columna llamada \"year\" que contiene únicamente el año de la columna \"release_date\". Esto nos permitirá trabajar específicamente con los años de lanzamiento de los juegos en nuestro análisis."
   ]
  },
  {
   "cell_type": "code",
   "execution_count": 20,
   "metadata": {},
   "outputs": [],
   "source": [
    "# Definición de la función para extraer el año de una fecha\n",
    "def anio(fecha):\n",
    "    try:\n",
    "       # Intenta convertir la fecha a un objeto datetime y extraer el año.\n",
    "        año = pd.to_datetime(fecha, errors='coerce').year\n",
    "       # Si se obtiene un año válido, se convierte a entero, de lo contrario,\n",
    "        return int(año) if not pd.isnull(año) else None\n",
    "    except:\n",
    "         # En caso de error, devuelve None\n",
    "        return None\n"
   ]
  },
  {
   "cell_type": "code",
   "execution_count": 21,
   "metadata": {},
   "outputs": [
    {
     "name": "stderr",
     "output_type": "stream",
     "text": [
      "C:\\Users\\Willc\\AppData\\Local\\Temp\\ipykernel_20260\\586216625.py:5: UserWarning: Parsing dates in %d.%m.%Y format when dayfirst=False (the default) was specified. Pass `dayfirst=True` or specify a format to silence this warning.\n",
      "  año = pd.to_datetime(fecha, errors='coerce').year\n",
      "C:\\Users\\Willc\\AppData\\Local\\Temp\\ipykernel_20260\\678893542.py:2: SettingWithCopyWarning: \n",
      "A value is trying to be set on a copy of a slice from a DataFrame.\n",
      "Try using .loc[row_indexer,col_indexer] = value instead\n",
      "\n",
      "See the caveats in the documentation: https://pandas.pydata.org/pandas-docs/stable/user_guide/indexing.html#returning-a-view-versus-a-copy\n",
      "  df_steam_games_clean['year'] = df_steam_games_clean['release_date'].apply(anio)\n"
     ]
    }
   ],
   "source": [
    "\n",
    "# Aplicar la función para crear la nueva columna 'year' con los años extraídos\n",
    "df_steam_games_clean['year'] = df_steam_games_clean['release_date'].apply(anio)"
   ]
  },
  {
   "cell_type": "markdown",
   "metadata": {},
   "source": [
    "Verificamos la proporción de valores nulos en la columna \"year\", ya que actualmente no hemos realizado ningún tratamiento para estos valores."
   ]
  },
  {
   "cell_type": "code",
   "execution_count": 22,
   "metadata": {},
   "outputs": [
    {
     "data": {
      "text/plain": [
       "2239"
      ]
     },
     "execution_count": 22,
     "metadata": {},
     "output_type": "execute_result"
    }
   ],
   "source": [
    "df_steam_games_clean['year'].isnull().sum()"
   ]
  },
  {
   "cell_type": "code",
   "execution_count": 23,
   "metadata": {},
   "outputs": [
    {
     "data": {
      "text/plain": [
       "6.998187160092517"
      ]
     },
     "execution_count": 23,
     "metadata": {},
     "output_type": "execute_result"
    }
   ],
   "source": [
    "(df_steam_games_clean['year'].isnull().sum() / df_steam_games_clean.shape[0])*100 #porcentaje de nulos"
   ]
  },
  {
   "cell_type": "markdown",
   "metadata": {},
   "source": [
    "Se verifica la fila null del la columna title"
   ]
  },
  {
   "cell_type": "code",
   "execution_count": 24,
   "metadata": {},
   "outputs": [
    {
     "data": {
      "text/html": [
       "<div>\n",
       "<style scoped>\n",
       "    .dataframe tbody tr th:only-of-type {\n",
       "        vertical-align: middle;\n",
       "    }\n",
       "\n",
       "    .dataframe tbody tr th {\n",
       "        vertical-align: top;\n",
       "    }\n",
       "\n",
       "    .dataframe thead th {\n",
       "        text-align: right;\n",
       "    }\n",
       "</style>\n",
       "<table border=\"1\" class=\"dataframe\">\n",
       "  <thead>\n",
       "    <tr style=\"text-align: right;\">\n",
       "      <th></th>\n",
       "      <th>publisher</th>\n",
       "      <th>genres</th>\n",
       "      <th>app_name</th>\n",
       "      <th>title</th>\n",
       "      <th>url</th>\n",
       "      <th>release_date</th>\n",
       "      <th>reviews_url</th>\n",
       "      <th>specs</th>\n",
       "      <th>price</th>\n",
       "      <th>early_access</th>\n",
       "      <th>id</th>\n",
       "      <th>developer</th>\n",
       "      <th>year</th>\n",
       "    </tr>\n",
       "  </thead>\n",
       "  <tbody>\n",
       "    <tr>\n",
       "      <th>88314</th>\n",
       "      <td>None</td>\n",
       "      <td>[Action, Indie, Casual, Sports]</td>\n",
       "      <td>Log Challenge</td>\n",
       "      <td>None</td>\n",
       "      <td>http://store.steampowered.com/app/773570/Log_C...</td>\n",
       "      <td>None</td>\n",
       "      <td>http://steamcommunity.com/app/773570/reviews/?...</td>\n",
       "      <td>[Single-player, Full controller support, HTC V...</td>\n",
       "      <td>2.99</td>\n",
       "      <td>0.0</td>\n",
       "      <td>773570</td>\n",
       "      <td>None</td>\n",
       "      <td>NaN</td>\n",
       "    </tr>\n",
       "    <tr>\n",
       "      <th>88321</th>\n",
       "      <td>None</td>\n",
       "      <td>[Casual]</td>\n",
       "      <td>Icarus Six Sixty Six</td>\n",
       "      <td>None</td>\n",
       "      <td>http://store.steampowered.com/app/724910/Icaru...</td>\n",
       "      <td>None</td>\n",
       "      <td>http://steamcommunity.com/app/724910/reviews/?...</td>\n",
       "      <td>[Single-player, HTC Vive, Tracked Motion Contr...</td>\n",
       "      <td>Free</td>\n",
       "      <td>0.0</td>\n",
       "      <td>724910</td>\n",
       "      <td>None</td>\n",
       "      <td>NaN</td>\n",
       "    </tr>\n",
       "    <tr>\n",
       "      <th>88329</th>\n",
       "      <td>None</td>\n",
       "      <td>[Early Access, Indie]</td>\n",
       "      <td>After Life VR</td>\n",
       "      <td>None</td>\n",
       "      <td>http://store.steampowered.com/app/772590/After...</td>\n",
       "      <td>None</td>\n",
       "      <td>http://steamcommunity.com/app/772590/reviews/?...</td>\n",
       "      <td>[Single-player, HTC Vive, Tracked Motion Contr...</td>\n",
       "      <td>4.99</td>\n",
       "      <td>1.0</td>\n",
       "      <td>772590</td>\n",
       "      <td>None</td>\n",
       "      <td>NaN</td>\n",
       "    </tr>\n",
       "    <tr>\n",
       "      <th>88330</th>\n",
       "      <td>None</td>\n",
       "      <td>[Early Access, Action, Adventure, Indie, Casual]</td>\n",
       "      <td>Kitty Hawk</td>\n",
       "      <td>None</td>\n",
       "      <td>http://store.steampowered.com/app/640250/Kitty...</td>\n",
       "      <td>None</td>\n",
       "      <td>http://steamcommunity.com/app/640250/reviews/?...</td>\n",
       "      <td>[Single-player, Steam Leaderboards, HTC Vive, ...</td>\n",
       "      <td>2.99</td>\n",
       "      <td>1.0</td>\n",
       "      <td>640250</td>\n",
       "      <td>None</td>\n",
       "      <td>NaN</td>\n",
       "    </tr>\n",
       "    <tr>\n",
       "      <th>88332</th>\n",
       "      <td>None</td>\n",
       "      <td>[Early Access, Strategy, Action, Indie, Casual]</td>\n",
       "      <td>Mortars VR</td>\n",
       "      <td>None</td>\n",
       "      <td>http://store.steampowered.com/app/711440/Morta...</td>\n",
       "      <td>None</td>\n",
       "      <td>http://steamcommunity.com/app/711440/reviews/?...</td>\n",
       "      <td>[Single-player, Multi-player, Online Multi-Pla...</td>\n",
       "      <td>0.99</td>\n",
       "      <td>1.0</td>\n",
       "      <td>711440</td>\n",
       "      <td>None</td>\n",
       "      <td>NaN</td>\n",
       "    </tr>\n",
       "    <tr>\n",
       "      <th>...</th>\n",
       "      <td>...</td>\n",
       "      <td>...</td>\n",
       "      <td>...</td>\n",
       "      <td>...</td>\n",
       "      <td>...</td>\n",
       "      <td>...</td>\n",
       "      <td>...</td>\n",
       "      <td>...</td>\n",
       "      <td>...</td>\n",
       "      <td>...</td>\n",
       "      <td>...</td>\n",
       "      <td>...</td>\n",
       "      <td>...</td>\n",
       "    </tr>\n",
       "    <tr>\n",
       "      <th>120383</th>\n",
       "      <td>None</td>\n",
       "      <td>[Action, Massively Multiplayer, Strategy]</td>\n",
       "      <td>Tank of War-VR</td>\n",
       "      <td>None</td>\n",
       "      <td>http://store.steampowered.com/app/745900/Tank_...</td>\n",
       "      <td>None</td>\n",
       "      <td>http://steamcommunity.com/app/745900/reviews/?...</td>\n",
       "      <td>[Single-player, Multi-player, Online Multi-Pla...</td>\n",
       "      <td>19.99</td>\n",
       "      <td>0.0</td>\n",
       "      <td>745900</td>\n",
       "      <td>None</td>\n",
       "      <td>NaN</td>\n",
       "    </tr>\n",
       "    <tr>\n",
       "      <th>120386</th>\n",
       "      <td>None</td>\n",
       "      <td>[Casual, Simulation]</td>\n",
       "      <td>Flappy Arms</td>\n",
       "      <td>None</td>\n",
       "      <td>http://store.steampowered.com/app/764110/Flapp...</td>\n",
       "      <td>None</td>\n",
       "      <td>http://steamcommunity.com/app/764110/reviews/?...</td>\n",
       "      <td>[Single-player, Steam Leaderboards, HTC Vive, ...</td>\n",
       "      <td>1.99</td>\n",
       "      <td>0.0</td>\n",
       "      <td>764110</td>\n",
       "      <td>None</td>\n",
       "      <td>NaN</td>\n",
       "    </tr>\n",
       "    <tr>\n",
       "      <th>120387</th>\n",
       "      <td>None</td>\n",
       "      <td>[Early Access, Casual]</td>\n",
       "      <td>SpaceWalker</td>\n",
       "      <td>None</td>\n",
       "      <td>http://store.steampowered.com/app/705860/Space...</td>\n",
       "      <td>None</td>\n",
       "      <td>http://steamcommunity.com/app/705860/reviews/?...</td>\n",
       "      <td>[Single-player, HTC Vive, Oculus Rift, Tracked...</td>\n",
       "      <td>Free</td>\n",
       "      <td>1.0</td>\n",
       "      <td>705860</td>\n",
       "      <td>None</td>\n",
       "      <td>NaN</td>\n",
       "    </tr>\n",
       "    <tr>\n",
       "      <th>120395</th>\n",
       "      <td>None</td>\n",
       "      <td>[Video Production, Utilities, Web Publishing]</td>\n",
       "      <td>LIV Client</td>\n",
       "      <td>None</td>\n",
       "      <td>http://store.steampowered.com/app/755540/LIV_C...</td>\n",
       "      <td>None</td>\n",
       "      <td>http://steamcommunity.com/app/755540/reviews/?...</td>\n",
       "      <td>[Steam Workshop, Steam Cloud, HTC Vive, Oculus...</td>\n",
       "      <td>None</td>\n",
       "      <td>0.0</td>\n",
       "      <td>755540</td>\n",
       "      <td>None</td>\n",
       "      <td>NaN</td>\n",
       "    </tr>\n",
       "    <tr>\n",
       "      <th>120444</th>\n",
       "      <td>None</td>\n",
       "      <td>[Early Access, Adventure, Indie, Action, Simul...</td>\n",
       "      <td>Maze Run VR</td>\n",
       "      <td>None</td>\n",
       "      <td>http://store.steampowered.com/app/681550/Maze_...</td>\n",
       "      <td>None</td>\n",
       "      <td>http://steamcommunity.com/app/681550/reviews/?...</td>\n",
       "      <td>[Single-player, Stats, Steam Leaderboards, HTC...</td>\n",
       "      <td>4.99</td>\n",
       "      <td>1.0</td>\n",
       "      <td>681550</td>\n",
       "      <td>None</td>\n",
       "      <td>NaN</td>\n",
       "    </tr>\n",
       "  </tbody>\n",
       "</table>\n",
       "<p>2048 rows × 13 columns</p>\n",
       "</div>"
      ],
      "text/plain": [
       "       publisher                                             genres  \\\n",
       "88314       None                    [Action, Indie, Casual, Sports]   \n",
       "88321       None                                           [Casual]   \n",
       "88329       None                              [Early Access, Indie]   \n",
       "88330       None   [Early Access, Action, Adventure, Indie, Casual]   \n",
       "88332       None    [Early Access, Strategy, Action, Indie, Casual]   \n",
       "...          ...                                                ...   \n",
       "120383      None          [Action, Massively Multiplayer, Strategy]   \n",
       "120386      None                               [Casual, Simulation]   \n",
       "120387      None                             [Early Access, Casual]   \n",
       "120395      None      [Video Production, Utilities, Web Publishing]   \n",
       "120444      None  [Early Access, Adventure, Indie, Action, Simul...   \n",
       "\n",
       "                    app_name title  \\\n",
       "88314          Log Challenge  None   \n",
       "88321   Icarus Six Sixty Six  None   \n",
       "88329          After Life VR  None   \n",
       "88330             Kitty Hawk  None   \n",
       "88332             Mortars VR  None   \n",
       "...                      ...   ...   \n",
       "120383        Tank of War-VR  None   \n",
       "120386           Flappy Arms  None   \n",
       "120387           SpaceWalker  None   \n",
       "120395            LIV Client  None   \n",
       "120444           Maze Run VR  None   \n",
       "\n",
       "                                                      url release_date  \\\n",
       "88314   http://store.steampowered.com/app/773570/Log_C...         None   \n",
       "88321   http://store.steampowered.com/app/724910/Icaru...         None   \n",
       "88329   http://store.steampowered.com/app/772590/After...         None   \n",
       "88330   http://store.steampowered.com/app/640250/Kitty...         None   \n",
       "88332   http://store.steampowered.com/app/711440/Morta...         None   \n",
       "...                                                   ...          ...   \n",
       "120383  http://store.steampowered.com/app/745900/Tank_...         None   \n",
       "120386  http://store.steampowered.com/app/764110/Flapp...         None   \n",
       "120387  http://store.steampowered.com/app/705860/Space...         None   \n",
       "120395  http://store.steampowered.com/app/755540/LIV_C...         None   \n",
       "120444  http://store.steampowered.com/app/681550/Maze_...         None   \n",
       "\n",
       "                                              reviews_url  \\\n",
       "88314   http://steamcommunity.com/app/773570/reviews/?...   \n",
       "88321   http://steamcommunity.com/app/724910/reviews/?...   \n",
       "88329   http://steamcommunity.com/app/772590/reviews/?...   \n",
       "88330   http://steamcommunity.com/app/640250/reviews/?...   \n",
       "88332   http://steamcommunity.com/app/711440/reviews/?...   \n",
       "...                                                   ...   \n",
       "120383  http://steamcommunity.com/app/745900/reviews/?...   \n",
       "120386  http://steamcommunity.com/app/764110/reviews/?...   \n",
       "120387  http://steamcommunity.com/app/705860/reviews/?...   \n",
       "120395  http://steamcommunity.com/app/755540/reviews/?...   \n",
       "120444  http://steamcommunity.com/app/681550/reviews/?...   \n",
       "\n",
       "                                                    specs  price  \\\n",
       "88314   [Single-player, Full controller support, HTC V...   2.99   \n",
       "88321   [Single-player, HTC Vive, Tracked Motion Contr...   Free   \n",
       "88329   [Single-player, HTC Vive, Tracked Motion Contr...   4.99   \n",
       "88330   [Single-player, Steam Leaderboards, HTC Vive, ...   2.99   \n",
       "88332   [Single-player, Multi-player, Online Multi-Pla...   0.99   \n",
       "...                                                   ...    ...   \n",
       "120383  [Single-player, Multi-player, Online Multi-Pla...  19.99   \n",
       "120386  [Single-player, Steam Leaderboards, HTC Vive, ...   1.99   \n",
       "120387  [Single-player, HTC Vive, Oculus Rift, Tracked...   Free   \n",
       "120395  [Steam Workshop, Steam Cloud, HTC Vive, Oculus...   None   \n",
       "120444  [Single-player, Stats, Steam Leaderboards, HTC...   4.99   \n",
       "\n",
       "        early_access      id developer  year  \n",
       "88314            0.0  773570      None   NaN  \n",
       "88321            0.0  724910      None   NaN  \n",
       "88329            1.0  772590      None   NaN  \n",
       "88330            1.0  640250      None   NaN  \n",
       "88332            1.0  711440      None   NaN  \n",
       "...              ...     ...       ...   ...  \n",
       "120383           0.0  745900      None   NaN  \n",
       "120386           0.0  764110      None   NaN  \n",
       "120387           1.0  705860      None   NaN  \n",
       "120395           0.0  755540      None   NaN  \n",
       "120444           1.0  681550      None   NaN  \n",
       "\n",
       "[2048 rows x 13 columns]"
      ]
     },
     "execution_count": 24,
     "metadata": {},
     "output_type": "execute_result"
    }
   ],
   "source": [
    "df_steam_games_clean[df_steam_games_clean['title'].isnull()]"
   ]
  },
  {
   "cell_type": "markdown",
   "metadata": {},
   "source": [
    "La columna Publisher y la columna developer contienen casi la misma informacion, por ello se precede traer los valores que no estan en publisher pero si en developer"
   ]
  },
  {
   "cell_type": "code",
   "execution_count": 25,
   "metadata": {},
   "outputs": [
    {
     "name": "stderr",
     "output_type": "stream",
     "text": [
      "C:\\Users\\Willc\\AppData\\Local\\Temp\\ipykernel_20260\\952864719.py:1: SettingWithCopyWarning: \n",
      "A value is trying to be set on a copy of a slice from a DataFrame\n",
      "\n",
      "See the caveats in the documentation: https://pandas.pydata.org/pandas-docs/stable/user_guide/indexing.html#returning-a-view-versus-a-copy\n",
      "  df_steam_games_clean['publisher'].fillna(df_steam_games_clean['developer'], inplace=True)#Remplaza los valores nulos de la columna publisher con los valores de la columna developer\n"
     ]
    }
   ],
   "source": [
    "df_steam_games_clean['publisher'].fillna(df_steam_games_clean['developer'], inplace=True)#Remplaza los valores nulos de la columna publisher con los valores de la columna developer"
   ]
  },
  {
   "cell_type": "markdown",
   "metadata": {},
   "source": [
    "Ahora verificamos los datos de la columna price"
   ]
  },
  {
   "cell_type": "code",
   "execution_count": 26,
   "metadata": {},
   "outputs": [
    {
     "data": {
      "text/plain": [
       "price\n",
       "4.99           4256\n",
       "9.99           3893\n",
       "2.99           3423\n",
       "0.99           2578\n",
       "1.99           2523\n",
       "               ... \n",
       "74.76             1\n",
       "32.99             1\n",
       "14.95             1\n",
       "26.99             1\n",
       "Free to Use       1\n",
       "Name: count, Length: 162, dtype: int64"
      ]
     },
     "execution_count": 26,
     "metadata": {},
     "output_type": "execute_result"
    }
   ],
   "source": [
    "df_steam_games_clean['price'].value_counts()"
   ]
  },
  {
   "cell_type": "code",
   "execution_count": 27,
   "metadata": {},
   "outputs": [],
   "source": [
    "rows_not_number = df_steam_games_clean[df_steam_games_clean['price'].apply(lambda x: not isinstance(x, float))]"
   ]
  },
  {
   "cell_type": "code",
   "execution_count": 28,
   "metadata": {},
   "outputs": [
    {
     "data": {
      "text/plain": [
       "price\n",
       "Free                             902\n",
       "Free to Play                     519\n",
       "Free To Play                     462\n",
       "Free Mod                           4\n",
       "Free Demo                          3\n",
       "Play Now                           2\n",
       "Third-party                        2\n",
       "Play for Free!                     2\n",
       "Play WARMACHINE: Tactics Demo      1\n",
       "Install Theme                      1\n",
       "Install Now                        1\n",
       "Free HITMAN™ Holiday Pack          1\n",
       "Play the Demo                      1\n",
       "Starting at $499.00                1\n",
       "Starting at $449.00                1\n",
       "Free to Try                        1\n",
       "Free Movie                         1\n",
       "Free to Use                        1\n",
       "Name: count, dtype: int64"
      ]
     },
     "execution_count": 28,
     "metadata": {},
     "output_type": "execute_result"
    }
   ],
   "source": [
    "rows_not_number['price'].value_counts()"
   ]
  },
  {
   "cell_type": "code",
   "execution_count": 29,
   "metadata": {},
   "outputs": [
    {
     "name": "stderr",
     "output_type": "stream",
     "text": [
      "C:\\Users\\Willc\\AppData\\Local\\Temp\\ipykernel_20260\\1302885621.py:1: SettingWithCopyWarning: \n",
      "A value is trying to be set on a copy of a slice from a DataFrame.\n",
      "Try using .loc[row_indexer,col_indexer] = value instead\n",
      "\n",
      "See the caveats in the documentation: https://pandas.pydata.org/pandas-docs/stable/user_guide/indexing.html#returning-a-view-versus-a-copy\n",
      "  df_steam_games_clean['price'] = df_steam_games_clean['price'].replace(['f', 'F', 'I', 'T', 'P'], 0, regex=True)#Reemplazamos los valores que contengan string por 0\n"
     ]
    }
   ],
   "source": [
    "df_steam_games_clean['price'] = df_steam_games_clean['price'].replace(['f', 'F', 'I', 'T', 'P'], 0, regex=True)#Reemplazamos los valores que contengan string por 0"
   ]
  },
  {
   "cell_type": "markdown",
   "metadata": {},
   "source": [
    "Para las filas que contienen Starting at $499.00  y Starting at $449.00 realizamos la siguiente funcion para que el valor de la columna price sea la parte float"
   ]
  },
  {
   "cell_type": "code",
   "execution_count": 30,
   "metadata": {},
   "outputs": [],
   "source": [
    "# Definir una función para extraer la parte numérica de una cadena y sobrescribir la columna \"price\"\n",
    "def replace_nume_price(string):\n",
    "    if isinstance(string, str) and string.startswith('Starting at $'):\n",
    "        numeric_part = string[len('Starting at $'):]\n",
    "        try:\n",
    "            numeric_value = float(numeric_part)\n",
    "            return numeric_value\n",
    "        except ValueError:\n",
    "            return string  # Si no se puede convertir a float, devolver la cadena original\n",
    "    else:\n",
    "        return string  # Si no es una cadena que comienza con \"Starting at $\", no hacer cambios"
   ]
  },
  {
   "cell_type": "code",
   "execution_count": 31,
   "metadata": {},
   "outputs": [
    {
     "name": "stderr",
     "output_type": "stream",
     "text": [
      "C:\\Users\\Willc\\AppData\\Local\\Temp\\ipykernel_20260\\1689708497.py:2: SettingWithCopyWarning: \n",
      "A value is trying to be set on a copy of a slice from a DataFrame.\n",
      "Try using .loc[row_indexer,col_indexer] = value instead\n",
      "\n",
      "See the caveats in the documentation: https://pandas.pydata.org/pandas-docs/stable/user_guide/indexing.html#returning-a-view-versus-a-copy\n",
      "  df_steam_games_clean['price'] = df_steam_games_clean['price'].apply(replace_nume_price)\n"
     ]
    }
   ],
   "source": [
    "# Aplicar la función a la columna \"price\" para sobrescribir los valores con la parte numérica extraída\n",
    "df_steam_games_clean['price'] = df_steam_games_clean['price'].apply(replace_nume_price)"
   ]
  },
  {
   "cell_type": "code",
   "execution_count": 32,
   "metadata": {},
   "outputs": [
    {
     "name": "stderr",
     "output_type": "stream",
     "text": [
      "C:\\Users\\Willc\\AppData\\Local\\Temp\\ipykernel_20260\\1060508159.py:1: SettingWithCopyWarning: \n",
      "A value is trying to be set on a copy of a slice from a DataFrame.\n",
      "Try using .loc[row_indexer,col_indexer] = value instead\n",
      "\n",
      "See the caveats in the documentation: https://pandas.pydata.org/pandas-docs/stable/user_guide/indexing.html#returning-a-view-versus-a-copy\n",
      "  df_steam_games_clean['price'] = df_steam_games_clean['price'].astype(float)#Cambiamos a tipo de dato Float\n"
     ]
    }
   ],
   "source": [
    "df_steam_games_clean['price'] = df_steam_games_clean['price'].astype(float)#Cambiamos a tipo de dato Float"
   ]
  },
  {
   "cell_type": "markdown",
   "metadata": {},
   "source": [
    "Se eliminan las columnas que no se usaran en el analisis"
   ]
  },
  {
   "cell_type": "code",
   "execution_count": 33,
   "metadata": {},
   "outputs": [
    {
     "name": "stderr",
     "output_type": "stream",
     "text": [
      "C:\\Users\\Willc\\AppData\\Local\\Temp\\ipykernel_20260\\1958662482.py:1: SettingWithCopyWarning: \n",
      "A value is trying to be set on a copy of a slice from a DataFrame\n",
      "\n",
      "See the caveats in the documentation: https://pandas.pydata.org/pandas-docs/stable/user_guide/indexing.html#returning-a-view-versus-a-copy\n",
      "  df_steam_games_clean.drop(columns=['developer','url','reviews_url','early_access','specs'], inplace=True)\n"
     ]
    }
   ],
   "source": [
    "df_steam_games_clean.drop(columns=['developer','url','reviews_url','early_access','specs'], inplace=True)"
   ]
  },
  {
   "cell_type": "markdown",
   "metadata": {},
   "source": [
    "Se verifica que no hay valores nulos en el df"
   ]
  },
  {
   "cell_type": "code",
   "execution_count": 34,
   "metadata": {},
   "outputs": [
    {
     "data": {
      "text/plain": [
       "publisher       3209\n",
       "genres             0\n",
       "app_name           1\n",
       "title           2048\n",
       "release_date    2065\n",
       "price           1356\n",
       "id                 0\n",
       "year            2239\n",
       "dtype: int64"
      ]
     },
     "execution_count": 34,
     "metadata": {},
     "output_type": "execute_result"
    }
   ],
   "source": [
    "df_steam_games_clean.isnull().sum()"
   ]
  },
  {
   "cell_type": "markdown",
   "metadata": {},
   "source": [
    "se guarda como csv y se comprime para que ocupe menos espacio"
   ]
  },
  {
   "cell_type": "code",
   "execution_count": 36,
   "metadata": {},
   "outputs": [],
   "source": [
    "df_steam_games_clean.to_csv('../datasets/steam_games_worked.csv.gz',index=False)"
   ]
  }
 ],
 "metadata": {
  "kernelspec": {
   "display_name": "proyect-env",
   "language": "python",
   "name": "proyect-env"
  },
  "language_info": {
   "codemirror_mode": {
    "name": "ipython",
    "version": 3
   },
   "file_extension": ".py",
   "mimetype": "text/x-python",
   "name": "python",
   "nbconvert_exporter": "python",
   "pygments_lexer": "ipython3",
   "version": "3.11.6"
  }
 },
 "nbformat": 4,
 "nbformat_minor": 2
}
