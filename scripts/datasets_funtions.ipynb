{
 "cells": [
  {
   "cell_type": "markdown",
   "metadata": {},
   "source": [
    "En este Scrip se desarollo el codigo para creal los csv que usaran las funciones en FastAPI y en Render"
   ]
  },
  {
   "cell_type": "code",
   "execution_count": 31,
   "metadata": {},
   "outputs": [],
   "source": [
    "#Librerias a usar\n",
    "import pandas as pd\n"
   ]
  },
  {
   "cell_type": "markdown",
   "metadata": {},
   "source": [
    "Primera función"
   ]
  },
  {
   "cell_type": "markdown",
   "metadata": {},
   "source": [
    "se habren los datasets que ya se les realizo ETL y se guardaron como csv"
   ]
  },
  {
   "cell_type": "code",
   "execution_count": 32,
   "metadata": {},
   "outputs": [],
   "source": [
    "df_steam_games = pd.read_csv('../datasets/steam_games_worked.csv.gz')\n",
    "df_user_items = pd.read_csv('../datasets/user_items_worked.csv.gz')"
   ]
  },
  {
   "cell_type": "markdown",
   "metadata": {},
   "source": [
    "Se seleccionan solo las columnas que se van a usar para realizar la funcion"
   ]
  },
  {
   "cell_type": "code",
   "execution_count": 33,
   "metadata": {},
   "outputs": [],
   "source": [
    "funtion_one_steam_games = df_steam_games[['id', 'genres', 'year']]"
   ]
  },
  {
   "cell_type": "code",
   "execution_count": 34,
   "metadata": {},
   "outputs": [
    {
     "data": {
      "text/html": [
       "<div>\n",
       "<style scoped>\n",
       "    .dataframe tbody tr th:only-of-type {\n",
       "        vertical-align: middle;\n",
       "    }\n",
       "\n",
       "    .dataframe tbody tr th {\n",
       "        vertical-align: top;\n",
       "    }\n",
       "\n",
       "    .dataframe thead th {\n",
       "        text-align: right;\n",
       "    }\n",
       "</style>\n",
       "<table border=\"1\" class=\"dataframe\">\n",
       "  <thead>\n",
       "    <tr style=\"text-align: right;\">\n",
       "      <th></th>\n",
       "      <th>id</th>\n",
       "      <th>genres</th>\n",
       "      <th>year</th>\n",
       "    </tr>\n",
       "  </thead>\n",
       "  <tbody>\n",
       "    <tr>\n",
       "      <th>0</th>\n",
       "      <td>761140</td>\n",
       "      <td>['Action', 'Casual', 'Indie', 'Simulation', 'S...</td>\n",
       "      <td>2018.0</td>\n",
       "    </tr>\n",
       "    <tr>\n",
       "      <th>1</th>\n",
       "      <td>643980</td>\n",
       "      <td>['Free to Play', 'Indie', 'RPG', 'Strategy']</td>\n",
       "      <td>2018.0</td>\n",
       "    </tr>\n",
       "  </tbody>\n",
       "</table>\n",
       "</div>"
      ],
      "text/plain": [
       "       id                                             genres    year\n",
       "0  761140  ['Action', 'Casual', 'Indie', 'Simulation', 'S...  2018.0\n",
       "1  643980       ['Free to Play', 'Indie', 'RPG', 'Strategy']  2018.0"
      ]
     },
     "execution_count": 34,
     "metadata": {},
     "output_type": "execute_result"
    }
   ],
   "source": [
    "funtion_one_steam_games.head(2)"
   ]
  },
  {
   "cell_type": "markdown",
   "metadata": {},
   "source": [
    "Verificamos los nulos y filtramos"
   ]
  },
  {
   "cell_type": "code",
   "execution_count": 35,
   "metadata": {},
   "outputs": [
    {
     "data": {
      "text/plain": [
       "id           0\n",
       "genres       0\n",
       "year      2239\n",
       "dtype: int64"
      ]
     },
     "execution_count": 35,
     "metadata": {},
     "output_type": "execute_result"
    }
   ],
   "source": [
    "funtion_one_steam_games.isnull().sum()"
   ]
  },
  {
   "cell_type": "code",
   "execution_count": 36,
   "metadata": {},
   "outputs": [],
   "source": [
    "funtion_one_steam_games = funtion_one_steam_games.dropna(subset='year')"
   ]
  },
  {
   "cell_type": "code",
   "execution_count": 38,
   "metadata": {},
   "outputs": [
    {
     "data": {
      "text/html": [
       "<div>\n",
       "<style scoped>\n",
       "    .dataframe tbody tr th:only-of-type {\n",
       "        vertical-align: middle;\n",
       "    }\n",
       "\n",
       "    .dataframe tbody tr th {\n",
       "        vertical-align: top;\n",
       "    }\n",
       "\n",
       "    .dataframe thead th {\n",
       "        text-align: right;\n",
       "    }\n",
       "</style>\n",
       "<table border=\"1\" class=\"dataframe\">\n",
       "  <thead>\n",
       "    <tr style=\"text-align: right;\">\n",
       "      <th></th>\n",
       "      <th>item_id</th>\n",
       "      <th>user_id</th>\n",
       "      <th>playtime_forever</th>\n",
       "    </tr>\n",
       "  </thead>\n",
       "  <tbody>\n",
       "    <tr>\n",
       "      <th>0</th>\n",
       "      <td>10</td>\n",
       "      <td>76561197970982479</td>\n",
       "      <td>6.0</td>\n",
       "    </tr>\n",
       "    <tr>\n",
       "      <th>1</th>\n",
       "      <td>20</td>\n",
       "      <td>76561197970982479</td>\n",
       "      <td>0.0</td>\n",
       "    </tr>\n",
       "  </tbody>\n",
       "</table>\n",
       "</div>"
      ],
      "text/plain": [
       "   item_id            user_id  playtime_forever\n",
       "0       10  76561197970982479               6.0\n",
       "1       20  76561197970982479               0.0"
      ]
     },
     "execution_count": 38,
     "metadata": {},
     "output_type": "execute_result"
    }
   ],
   "source": [
    "df_user_items.head(2)"
   ]
  },
  {
   "cell_type": "code",
   "execution_count": 39,
   "metadata": {},
   "outputs": [],
   "source": [
    "funtion_one_user_items = df_user_items[['item_id', 'playtime_forever']]"
   ]
  },
  {
   "cell_type": "code",
   "execution_count": 40,
   "metadata": {},
   "outputs": [
    {
     "data": {
      "text/html": [
       "<div>\n",
       "<style scoped>\n",
       "    .dataframe tbody tr th:only-of-type {\n",
       "        vertical-align: middle;\n",
       "    }\n",
       "\n",
       "    .dataframe tbody tr th {\n",
       "        vertical-align: top;\n",
       "    }\n",
       "\n",
       "    .dataframe thead th {\n",
       "        text-align: right;\n",
       "    }\n",
       "</style>\n",
       "<table border=\"1\" class=\"dataframe\">\n",
       "  <thead>\n",
       "    <tr style=\"text-align: right;\">\n",
       "      <th></th>\n",
       "      <th>item_id</th>\n",
       "      <th>playtime_forever</th>\n",
       "    </tr>\n",
       "  </thead>\n",
       "  <tbody>\n",
       "    <tr>\n",
       "      <th>0</th>\n",
       "      <td>10</td>\n",
       "      <td>6.0</td>\n",
       "    </tr>\n",
       "    <tr>\n",
       "      <th>1</th>\n",
       "      <td>20</td>\n",
       "      <td>0.0</td>\n",
       "    </tr>\n",
       "    <tr>\n",
       "      <th>2</th>\n",
       "      <td>30</td>\n",
       "      <td>7.0</td>\n",
       "    </tr>\n",
       "    <tr>\n",
       "      <th>3</th>\n",
       "      <td>40</td>\n",
       "      <td>0.0</td>\n",
       "    </tr>\n",
       "    <tr>\n",
       "      <th>4</th>\n",
       "      <td>50</td>\n",
       "      <td>0.0</td>\n",
       "    </tr>\n",
       "  </tbody>\n",
       "</table>\n",
       "</div>"
      ],
      "text/plain": [
       "   item_id  playtime_forever\n",
       "0       10               6.0\n",
       "1       20               0.0\n",
       "2       30               7.0\n",
       "3       40               0.0\n",
       "4       50               0.0"
      ]
     },
     "execution_count": 40,
     "metadata": {},
     "output_type": "execute_result"
    }
   ],
   "source": [
    "funtion_one_user_items.head()"
   ]
  },
  {
   "cell_type": "code",
   "execution_count": 41,
   "metadata": {},
   "outputs": [],
   "source": [
    "# 1. Fusionar los DataFrames\n",
    "funtion_one_merge_df = pd.merge(funtion_one_steam_games, funtion_one_user_items, left_on='id', right_on='item_id')"
   ]
  },
  {
   "cell_type": "code",
   "execution_count": 42,
   "metadata": {},
   "outputs": [
    {
     "data": {
      "text/html": [
       "<div>\n",
       "<style scoped>\n",
       "    .dataframe tbody tr th:only-of-type {\n",
       "        vertical-align: middle;\n",
       "    }\n",
       "\n",
       "    .dataframe tbody tr th {\n",
       "        vertical-align: top;\n",
       "    }\n",
       "\n",
       "    .dataframe thead th {\n",
       "        text-align: right;\n",
       "    }\n",
       "</style>\n",
       "<table border=\"1\" class=\"dataframe\">\n",
       "  <thead>\n",
       "    <tr style=\"text-align: right;\">\n",
       "      <th></th>\n",
       "      <th>id</th>\n",
       "      <th>genres</th>\n",
       "      <th>year</th>\n",
       "      <th>item_id</th>\n",
       "      <th>playtime_forever</th>\n",
       "    </tr>\n",
       "  </thead>\n",
       "  <tbody>\n",
       "    <tr>\n",
       "      <th>0</th>\n",
       "      <td>282010</td>\n",
       "      <td>['Action', 'Indie', 'Racing']</td>\n",
       "      <td>1997.0</td>\n",
       "      <td>282010</td>\n",
       "      <td>5.0</td>\n",
       "    </tr>\n",
       "    <tr>\n",
       "      <th>1</th>\n",
       "      <td>282010</td>\n",
       "      <td>['Action', 'Indie', 'Racing']</td>\n",
       "      <td>1997.0</td>\n",
       "      <td>282010</td>\n",
       "      <td>0.0</td>\n",
       "    </tr>\n",
       "    <tr>\n",
       "      <th>2</th>\n",
       "      <td>282010</td>\n",
       "      <td>['Action', 'Indie', 'Racing']</td>\n",
       "      <td>1997.0</td>\n",
       "      <td>282010</td>\n",
       "      <td>0.0</td>\n",
       "    </tr>\n",
       "    <tr>\n",
       "      <th>3</th>\n",
       "      <td>282010</td>\n",
       "      <td>['Action', 'Indie', 'Racing']</td>\n",
       "      <td>1997.0</td>\n",
       "      <td>282010</td>\n",
       "      <td>0.0</td>\n",
       "    </tr>\n",
       "    <tr>\n",
       "      <th>4</th>\n",
       "      <td>282010</td>\n",
       "      <td>['Action', 'Indie', 'Racing']</td>\n",
       "      <td>1997.0</td>\n",
       "      <td>282010</td>\n",
       "      <td>13.0</td>\n",
       "    </tr>\n",
       "  </tbody>\n",
       "</table>\n",
       "</div>"
      ],
      "text/plain": [
       "       id                         genres    year  item_id  playtime_forever\n",
       "0  282010  ['Action', 'Indie', 'Racing']  1997.0   282010               5.0\n",
       "1  282010  ['Action', 'Indie', 'Racing']  1997.0   282010               0.0\n",
       "2  282010  ['Action', 'Indie', 'Racing']  1997.0   282010               0.0\n",
       "3  282010  ['Action', 'Indie', 'Racing']  1997.0   282010               0.0\n",
       "4  282010  ['Action', 'Indie', 'Racing']  1997.0   282010              13.0"
      ]
     },
     "execution_count": 42,
     "metadata": {},
     "output_type": "execute_result"
    }
   ],
   "source": [
    "funtion_one_merge_df.head()"
   ]
  },
  {
   "cell_type": "code",
   "execution_count": 43,
   "metadata": {},
   "outputs": [
    {
     "data": {
      "text/html": [
       "<div>\n",
       "<style scoped>\n",
       "    .dataframe tbody tr th:only-of-type {\n",
       "        vertical-align: middle;\n",
       "    }\n",
       "\n",
       "    .dataframe tbody tr th {\n",
       "        vertical-align: top;\n",
       "    }\n",
       "\n",
       "    .dataframe thead th {\n",
       "        text-align: right;\n",
       "    }\n",
       "</style>\n",
       "<table border=\"1\" class=\"dataframe\">\n",
       "  <thead>\n",
       "    <tr style=\"text-align: right;\">\n",
       "      <th></th>\n",
       "      <th>genres</th>\n",
       "      <th>year</th>\n",
       "      <th>item_id</th>\n",
       "      <th>playtime_forever</th>\n",
       "    </tr>\n",
       "  </thead>\n",
       "  <tbody>\n",
       "    <tr>\n",
       "      <th>0</th>\n",
       "      <td>['Action', 'Indie', 'Racing']</td>\n",
       "      <td>1997.0</td>\n",
       "      <td>282010</td>\n",
       "      <td>5.0</td>\n",
       "    </tr>\n",
       "    <tr>\n",
       "      <th>1</th>\n",
       "      <td>['Action', 'Indie', 'Racing']</td>\n",
       "      <td>1997.0</td>\n",
       "      <td>282010</td>\n",
       "      <td>0.0</td>\n",
       "    </tr>\n",
       "    <tr>\n",
       "      <th>2</th>\n",
       "      <td>['Action', 'Indie', 'Racing']</td>\n",
       "      <td>1997.0</td>\n",
       "      <td>282010</td>\n",
       "      <td>0.0</td>\n",
       "    </tr>\n",
       "    <tr>\n",
       "      <th>3</th>\n",
       "      <td>['Action', 'Indie', 'Racing']</td>\n",
       "      <td>1997.0</td>\n",
       "      <td>282010</td>\n",
       "      <td>0.0</td>\n",
       "    </tr>\n",
       "    <tr>\n",
       "      <th>4</th>\n",
       "      <td>['Action', 'Indie', 'Racing']</td>\n",
       "      <td>1997.0</td>\n",
       "      <td>282010</td>\n",
       "      <td>13.0</td>\n",
       "    </tr>\n",
       "    <tr>\n",
       "      <th>...</th>\n",
       "      <td>...</td>\n",
       "      <td>...</td>\n",
       "      <td>...</td>\n",
       "      <td>...</td>\n",
       "    </tr>\n",
       "    <tr>\n",
       "      <th>4215759</th>\n",
       "      <td>['Action', 'Strategy', 'Adventure', 'Simulation']</td>\n",
       "      <td>2004.0</td>\n",
       "      <td>80</td>\n",
       "      <td>0.0</td>\n",
       "    </tr>\n",
       "    <tr>\n",
       "      <th>4215760</th>\n",
       "      <td>['Action', 'Strategy', 'Adventure', 'Simulation']</td>\n",
       "      <td>2004.0</td>\n",
       "      <td>80</td>\n",
       "      <td>0.0</td>\n",
       "    </tr>\n",
       "    <tr>\n",
       "      <th>4215761</th>\n",
       "      <td>['Action', 'Strategy', 'Adventure', 'Simulation']</td>\n",
       "      <td>2004.0</td>\n",
       "      <td>80</td>\n",
       "      <td>0.0</td>\n",
       "    </tr>\n",
       "    <tr>\n",
       "      <th>4215762</th>\n",
       "      <td>['Action', 'Strategy', 'Adventure', 'Simulation']</td>\n",
       "      <td>2004.0</td>\n",
       "      <td>80</td>\n",
       "      <td>9.0</td>\n",
       "    </tr>\n",
       "    <tr>\n",
       "      <th>4215763</th>\n",
       "      <td>['Action', 'Strategy', 'Adventure', 'Simulation']</td>\n",
       "      <td>2004.0</td>\n",
       "      <td>80</td>\n",
       "      <td>99.0</td>\n",
       "    </tr>\n",
       "  </tbody>\n",
       "</table>\n",
       "<p>4215764 rows × 4 columns</p>\n",
       "</div>"
      ],
      "text/plain": [
       "                                                    genres    year  item_id  \\\n",
       "0                            ['Action', 'Indie', 'Racing']  1997.0   282010   \n",
       "1                            ['Action', 'Indie', 'Racing']  1997.0   282010   \n",
       "2                            ['Action', 'Indie', 'Racing']  1997.0   282010   \n",
       "3                            ['Action', 'Indie', 'Racing']  1997.0   282010   \n",
       "4                            ['Action', 'Indie', 'Racing']  1997.0   282010   \n",
       "...                                                    ...     ...      ...   \n",
       "4215759  ['Action', 'Strategy', 'Adventure', 'Simulation']  2004.0       80   \n",
       "4215760  ['Action', 'Strategy', 'Adventure', 'Simulation']  2004.0       80   \n",
       "4215761  ['Action', 'Strategy', 'Adventure', 'Simulation']  2004.0       80   \n",
       "4215762  ['Action', 'Strategy', 'Adventure', 'Simulation']  2004.0       80   \n",
       "4215763  ['Action', 'Strategy', 'Adventure', 'Simulation']  2004.0       80   \n",
       "\n",
       "         playtime_forever  \n",
       "0                     5.0  \n",
       "1                     0.0  \n",
       "2                     0.0  \n",
       "3                     0.0  \n",
       "4                    13.0  \n",
       "...                   ...  \n",
       "4215759               0.0  \n",
       "4215760               0.0  \n",
       "4215761               0.0  \n",
       "4215762               9.0  \n",
       "4215763              99.0  \n",
       "\n",
       "[4215764 rows x 4 columns]"
      ]
     },
     "execution_count": 43,
     "metadata": {},
     "output_type": "execute_result"
    }
   ],
   "source": [
    "funtion_one_merge_df.drop('id', axis=1)"
   ]
  },
  {
   "cell_type": "code",
   "execution_count": 44,
   "metadata": {},
   "outputs": [],
   "source": [
    "funtion_one_merge_df = funtion_one_merge_df.sample(frac=0.1, random_state=1)#por memorias en render se decide tomasr solo una muestra de df"
   ]
  },
  {
   "cell_type": "markdown",
   "metadata": {},
   "source": [
    "ya fusionados los dos df se guadan con csv para que sean consumidos por la función "
   ]
  },
  {
   "cell_type": "code",
   "execution_count": 45,
   "metadata": {},
   "outputs": [],
   "source": [
    "funtion_one_merge_df.to_csv('../datasets/PlayTimeGenre.csv.gz', index=False)"
   ]
  },
  {
   "cell_type": "code",
   "execution_count": 46,
   "metadata": {},
   "outputs": [],
   "source": [
    "def PlayTimeGenre(genero: str):\n",
    "    '''Esta función debe devolver año con mas horas jugadas para dicho género.\n",
    "    Ejemplo de retorno: {\"Año de lanzamiento con más horas jugadas para Género X\" : 2013}'''\n",
    "    \n",
    "    # Leer el DataFrame desde el archivo CSV\n",
    "    funtion_one_merge_df = pd.read_csv('../datasets/PlayTimeGenre.csv.gz')\n",
    "\n",
    "    # Capitalizar la primera letra del género\n",
    "    genero = genero.capitalize()\n",
    "\n",
    "    # Filtrar el DataFrame para obtener solo las filas relacionadas con el género específico\n",
    "    filtro_df = funtion_one_merge_df[funtion_one_merge_df['genres'].apply(lambda x: genero in x)]\n",
    "\n",
    "    if not filtro_df.empty:\n",
    "        # Agrupar por año sumando las horas jugadas para cada año\n",
    "        grouped_df = filtro_df.groupby('year')['playtime_forever'].sum().reset_index()\n",
    "\n",
    "        # Encontrar el año con la mayor cantidad de horas jugadas\n",
    "        max_year = grouped_df.loc[grouped_df['playtime_forever'].idxmax()]['year']\n",
    "\n",
    "        return {\"Año de lanzamiento con más horas jugadas para Género {}:\".format(genero): int(max_year)}\n",
    "    else:\n",
    "        return {\"Género {} no encontrado en el DataFrame.\".format(genero): None}\n"
   ]
  },
  {
   "cell_type": "code",
   "execution_count": 48,
   "metadata": {},
   "outputs": [
    {
     "name": "stdout",
     "output_type": "stream",
     "text": [
      "{'Año de lanzamiento con más horas jugadas para Género Indie:': 2006}\n"
     ]
    }
   ],
   "source": [
    "\n",
    "# Ejemplo de uso\n",
    "resultado = PlayTimeGenre('indie')\n",
    "print(resultado)"
   ]
  },
  {
   "cell_type": "markdown",
   "metadata": {},
   "source": [
    "funcion 2"
   ]
  },
  {
   "cell_type": "markdown",
   "metadata": {},
   "source": [
    "son casi los mismos pasos de la funcion 1, se le agrea la columna user_id "
   ]
  },
  {
   "cell_type": "code",
   "execution_count": 49,
   "metadata": {},
   "outputs": [],
   "source": [
    "funtion_two_df_steam_games = df_steam_games[['id', 'genres', 'year',]]"
   ]
  },
  {
   "cell_type": "code",
   "execution_count": 50,
   "metadata": {},
   "outputs": [],
   "source": [
    "funtion_two_df_user_items = df_user_items[['item_id', 'playtime_forever', 'user_id']]"
   ]
  },
  {
   "cell_type": "code",
   "execution_count": 51,
   "metadata": {},
   "outputs": [],
   "source": [
    "funtion_two_merge_df= pd.merge(funtion_two_df_steam_games, funtion_two_df_user_items, left_on='id', right_on='item_id')"
   ]
  },
  {
   "cell_type": "code",
   "execution_count": 52,
   "metadata": {},
   "outputs": [
    {
     "data": {
      "text/html": [
       "<div>\n",
       "<style scoped>\n",
       "    .dataframe tbody tr th:only-of-type {\n",
       "        vertical-align: middle;\n",
       "    }\n",
       "\n",
       "    .dataframe tbody tr th {\n",
       "        vertical-align: top;\n",
       "    }\n",
       "\n",
       "    .dataframe thead th {\n",
       "        text-align: right;\n",
       "    }\n",
       "</style>\n",
       "<table border=\"1\" class=\"dataframe\">\n",
       "  <thead>\n",
       "    <tr style=\"text-align: right;\">\n",
       "      <th></th>\n",
       "      <th>id</th>\n",
       "      <th>genres</th>\n",
       "      <th>year</th>\n",
       "      <th>item_id</th>\n",
       "      <th>playtime_forever</th>\n",
       "      <th>user_id</th>\n",
       "    </tr>\n",
       "  </thead>\n",
       "  <tbody>\n",
       "    <tr>\n",
       "      <th>0</th>\n",
       "      <td>282010</td>\n",
       "      <td>['Action', 'Indie', 'Racing']</td>\n",
       "      <td>1997.0</td>\n",
       "      <td>282010</td>\n",
       "      <td>5.0</td>\n",
       "      <td>UTNerd24</td>\n",
       "    </tr>\n",
       "    <tr>\n",
       "      <th>1</th>\n",
       "      <td>282010</td>\n",
       "      <td>['Action', 'Indie', 'Racing']</td>\n",
       "      <td>1997.0</td>\n",
       "      <td>282010</td>\n",
       "      <td>0.0</td>\n",
       "      <td>I_DID_911_JUST_SAYING</td>\n",
       "    </tr>\n",
       "    <tr>\n",
       "      <th>2</th>\n",
       "      <td>282010</td>\n",
       "      <td>['Action', 'Indie', 'Racing']</td>\n",
       "      <td>1997.0</td>\n",
       "      <td>282010</td>\n",
       "      <td>0.0</td>\n",
       "      <td>76561197962104795</td>\n",
       "    </tr>\n",
       "    <tr>\n",
       "      <th>3</th>\n",
       "      <td>282010</td>\n",
       "      <td>['Action', 'Indie', 'Racing']</td>\n",
       "      <td>1997.0</td>\n",
       "      <td>282010</td>\n",
       "      <td>0.0</td>\n",
       "      <td>r3ap3r78</td>\n",
       "    </tr>\n",
       "    <tr>\n",
       "      <th>4</th>\n",
       "      <td>282010</td>\n",
       "      <td>['Action', 'Indie', 'Racing']</td>\n",
       "      <td>1997.0</td>\n",
       "      <td>282010</td>\n",
       "      <td>13.0</td>\n",
       "      <td>saint556</td>\n",
       "    </tr>\n",
       "  </tbody>\n",
       "</table>\n",
       "</div>"
      ],
      "text/plain": [
       "       id                         genres    year  item_id  playtime_forever  \\\n",
       "0  282010  ['Action', 'Indie', 'Racing']  1997.0   282010               5.0   \n",
       "1  282010  ['Action', 'Indie', 'Racing']  1997.0   282010               0.0   \n",
       "2  282010  ['Action', 'Indie', 'Racing']  1997.0   282010               0.0   \n",
       "3  282010  ['Action', 'Indie', 'Racing']  1997.0   282010               0.0   \n",
       "4  282010  ['Action', 'Indie', 'Racing']  1997.0   282010              13.0   \n",
       "\n",
       "                 user_id  \n",
       "0               UTNerd24  \n",
       "1  I_DID_911_JUST_SAYING  \n",
       "2      76561197962104795  \n",
       "3               r3ap3r78  \n",
       "4               saint556  "
      ]
     },
     "execution_count": 52,
     "metadata": {},
     "output_type": "execute_result"
    }
   ],
   "source": [
    "funtion_two_merge_df.head()"
   ]
  },
  {
   "cell_type": "code",
   "execution_count": 53,
   "metadata": {},
   "outputs": [
    {
     "data": {
      "text/html": [
       "<div>\n",
       "<style scoped>\n",
       "    .dataframe tbody tr th:only-of-type {\n",
       "        vertical-align: middle;\n",
       "    }\n",
       "\n",
       "    .dataframe tbody tr th {\n",
       "        vertical-align: top;\n",
       "    }\n",
       "\n",
       "    .dataframe thead th {\n",
       "        text-align: right;\n",
       "    }\n",
       "</style>\n",
       "<table border=\"1\" class=\"dataframe\">\n",
       "  <thead>\n",
       "    <tr style=\"text-align: right;\">\n",
       "      <th></th>\n",
       "      <th>genres</th>\n",
       "      <th>year</th>\n",
       "      <th>item_id</th>\n",
       "      <th>playtime_forever</th>\n",
       "      <th>user_id</th>\n",
       "    </tr>\n",
       "  </thead>\n",
       "  <tbody>\n",
       "    <tr>\n",
       "      <th>0</th>\n",
       "      <td>['Action', 'Indie', 'Racing']</td>\n",
       "      <td>1997.0</td>\n",
       "      <td>282010</td>\n",
       "      <td>5.0</td>\n",
       "      <td>UTNerd24</td>\n",
       "    </tr>\n",
       "    <tr>\n",
       "      <th>1</th>\n",
       "      <td>['Action', 'Indie', 'Racing']</td>\n",
       "      <td>1997.0</td>\n",
       "      <td>282010</td>\n",
       "      <td>0.0</td>\n",
       "      <td>I_DID_911_JUST_SAYING</td>\n",
       "    </tr>\n",
       "    <tr>\n",
       "      <th>2</th>\n",
       "      <td>['Action', 'Indie', 'Racing']</td>\n",
       "      <td>1997.0</td>\n",
       "      <td>282010</td>\n",
       "      <td>0.0</td>\n",
       "      <td>76561197962104795</td>\n",
       "    </tr>\n",
       "    <tr>\n",
       "      <th>3</th>\n",
       "      <td>['Action', 'Indie', 'Racing']</td>\n",
       "      <td>1997.0</td>\n",
       "      <td>282010</td>\n",
       "      <td>0.0</td>\n",
       "      <td>r3ap3r78</td>\n",
       "    </tr>\n",
       "    <tr>\n",
       "      <th>4</th>\n",
       "      <td>['Action', 'Indie', 'Racing']</td>\n",
       "      <td>1997.0</td>\n",
       "      <td>282010</td>\n",
       "      <td>13.0</td>\n",
       "      <td>saint556</td>\n",
       "    </tr>\n",
       "    <tr>\n",
       "      <th>...</th>\n",
       "      <td>...</td>\n",
       "      <td>...</td>\n",
       "      <td>...</td>\n",
       "      <td>...</td>\n",
       "      <td>...</td>\n",
       "    </tr>\n",
       "    <tr>\n",
       "      <th>4294197</th>\n",
       "      <td>['Action', 'Strategy', 'Adventure', 'Simulation']</td>\n",
       "      <td>2004.0</td>\n",
       "      <td>80</td>\n",
       "      <td>0.0</td>\n",
       "      <td>76561198273508956</td>\n",
       "    </tr>\n",
       "    <tr>\n",
       "      <th>4294198</th>\n",
       "      <td>['Action', 'Strategy', 'Adventure', 'Simulation']</td>\n",
       "      <td>2004.0</td>\n",
       "      <td>80</td>\n",
       "      <td>0.0</td>\n",
       "      <td>76561198282090798</td>\n",
       "    </tr>\n",
       "    <tr>\n",
       "      <th>4294199</th>\n",
       "      <td>['Action', 'Strategy', 'Adventure', 'Simulation']</td>\n",
       "      <td>2004.0</td>\n",
       "      <td>80</td>\n",
       "      <td>0.0</td>\n",
       "      <td>943525</td>\n",
       "    </tr>\n",
       "    <tr>\n",
       "      <th>4294200</th>\n",
       "      <td>['Action', 'Strategy', 'Adventure', 'Simulation']</td>\n",
       "      <td>2004.0</td>\n",
       "      <td>80</td>\n",
       "      <td>9.0</td>\n",
       "      <td>76561198283312749</td>\n",
       "    </tr>\n",
       "    <tr>\n",
       "      <th>4294201</th>\n",
       "      <td>['Action', 'Strategy', 'Adventure', 'Simulation']</td>\n",
       "      <td>2004.0</td>\n",
       "      <td>80</td>\n",
       "      <td>99.0</td>\n",
       "      <td>76561198312638244</td>\n",
       "    </tr>\n",
       "  </tbody>\n",
       "</table>\n",
       "<p>4294202 rows × 5 columns</p>\n",
       "</div>"
      ],
      "text/plain": [
       "                                                    genres    year  item_id  \\\n",
       "0                            ['Action', 'Indie', 'Racing']  1997.0   282010   \n",
       "1                            ['Action', 'Indie', 'Racing']  1997.0   282010   \n",
       "2                            ['Action', 'Indie', 'Racing']  1997.0   282010   \n",
       "3                            ['Action', 'Indie', 'Racing']  1997.0   282010   \n",
       "4                            ['Action', 'Indie', 'Racing']  1997.0   282010   \n",
       "...                                                    ...     ...      ...   \n",
       "4294197  ['Action', 'Strategy', 'Adventure', 'Simulation']  2004.0       80   \n",
       "4294198  ['Action', 'Strategy', 'Adventure', 'Simulation']  2004.0       80   \n",
       "4294199  ['Action', 'Strategy', 'Adventure', 'Simulation']  2004.0       80   \n",
       "4294200  ['Action', 'Strategy', 'Adventure', 'Simulation']  2004.0       80   \n",
       "4294201  ['Action', 'Strategy', 'Adventure', 'Simulation']  2004.0       80   \n",
       "\n",
       "         playtime_forever                user_id  \n",
       "0                     5.0               UTNerd24  \n",
       "1                     0.0  I_DID_911_JUST_SAYING  \n",
       "2                     0.0      76561197962104795  \n",
       "3                     0.0               r3ap3r78  \n",
       "4                    13.0               saint556  \n",
       "...                   ...                    ...  \n",
       "4294197               0.0      76561198273508956  \n",
       "4294198               0.0      76561198282090798  \n",
       "4294199               0.0                 943525  \n",
       "4294200               9.0      76561198283312749  \n",
       "4294201              99.0      76561198312638244  \n",
       "\n",
       "[4294202 rows x 5 columns]"
      ]
     },
     "execution_count": 53,
     "metadata": {},
     "output_type": "execute_result"
    }
   ],
   "source": [
    "funtion_two_merge_df.drop('id', axis=1)"
   ]
  },
  {
   "cell_type": "code",
   "execution_count": 54,
   "metadata": {},
   "outputs": [],
   "source": [
    "funtion_two_merge_df = funtion_two_merge_df.sample(frac=0.15, random_state=1)#por memorias en render se decide tomasr solo una muestra de df"
   ]
  },
  {
   "cell_type": "code",
   "execution_count": 55,
   "metadata": {},
   "outputs": [],
   "source": [
    "funtion_two_merge_df.to_csv('../datasets/UserForGenre.csv.gz', index=False)"
   ]
  },
  {
   "cell_type": "code",
   "execution_count": 56,
   "metadata": {},
   "outputs": [],
   "source": [
    "def UserForGenre(genero: str):\n",
    "\n",
    "    '''Esta función devuelve el usuario que acumula más horas jugadas para el género dado y \n",
    "        una lista de la acumulación de horas jugadas por año.\n",
    "        Ejemplo de retorno: {\"Usuario con más horas jugadas para Género X\" : us213ndjss09sdf, \n",
    "        \"Horas jugadas\":[{Año: 2013, Horas: 203}, {Año: 2012, Horas: 100}, {Año: 2011, Horas: 23}]}'''\n",
    "\n",
    "    # Leer el DataFrame desde el archivo CSV\n",
    "    funtion_two_merge_df = pd.read_csv('../datasets/UserForGenre.csv.gz')\n",
    "\n",
    "    genero = genero.capitalize()\n",
    "    # Paso 1: Filtrar el DataFrame para el género dado\n",
    "    filtered_df = funtion_two_merge_df[funtion_two_merge_df['genres'].apply(lambda x: genero in x)]\n",
    "\n",
    "    if not filtered_df.empty:\n",
    "        # Paso 2: Encontrar el usuario con más horas jugadas\n",
    "        user_with_max_hours = filtered_df.groupby('user_id')['playtime_forever'].sum().idxmax()\n",
    "\n",
    "        # Paso 3: Crear una lista de acumulación de horas jugadas por año\n",
    "        grouped_df = filtered_df.groupby(['year', 'user_id'])['playtime_forever'].sum().reset_index()\n",
    "        hours_accumulation = [{'Año': int(year), 'Horas': int(hours)} for year, hours in grouped_df.groupby('year')['playtime_forever'].max().items()]\n",
    "\n",
    "        # Paso 4: Retornar el resultado en el formato deseado\n",
    "        result = {\"Usuario con más horas jugadas para Género {}\".format(genero): user_with_max_hours,\n",
    "                  \"Horas jugadas\": hours_accumulation}\n",
    "        return result\n",
    "    else:\n",
    "        return {\"Género {} no encontrado en el DataFrame.\".format(genero): None}"
   ]
  },
  {
   "cell_type": "code",
   "execution_count": 59,
   "metadata": {},
   "outputs": [
    {
     "name": "stdout",
     "output_type": "stream",
     "text": [
      "{'Usuario con más horas jugadas para Género Indie': 'tsunamitad', 'Horas jugadas': [{'Año': 1988, 'Horas': 379}, {'Año': 1995, 'Horas': 129}, {'Año': 1996, 'Horas': 40}, {'Año': 1997, 'Horas': 1182}, {'Año': 1998, 'Horas': 1274}, {'Año': 1999, 'Horas': 8101}, {'Año': 2000, 'Horas': 522}, {'Año': 2001, 'Horas': 2892}, {'Año': 2002, 'Horas': 1912}, {'Año': 2003, 'Horas': 8026}, {'Año': 2004, 'Horas': 2006}, {'Año': 2005, 'Horas': 6654}, {'Año': 2006, 'Horas': 551719}, {'Año': 2007, 'Horas': 45548}, {'Año': 2008, 'Horas': 101817}, {'Año': 2009, 'Horas': 78257}, {'Año': 2010, 'Horas': 152574}, {'Año': 2011, 'Horas': 600068}, {'Año': 2012, 'Horas': 171731}, {'Año': 2013, 'Horas': 182883}, {'Año': 2014, 'Horas': 134528}, {'Año': 2015, 'Horas': 278546}, {'Año': 2016, 'Horas': 225314}, {'Año': 2017, 'Horas': 141180}, {'Año': 2018, 'Horas': 342}]}\n"
     ]
    }
   ],
   "source": [
    "# Ejemplo de uso\n",
    "genero_ejemplo = 'indie'  # Puedes cambiar esto al género que desees\n",
    "resultado = UserForGenre(genero_ejemplo)\n",
    "print(resultado)"
   ]
  },
  {
   "cell_type": "markdown",
   "metadata": {},
   "source": [
    "Función 3"
   ]
  },
  {
   "cell_type": "markdown",
   "metadata": {},
   "source": [
    "importamos los csv a usar "
   ]
  },
  {
   "cell_type": "code",
   "execution_count": 64,
   "metadata": {},
   "outputs": [],
   "source": [
    "df_user_reviews = pd.read_csv('../datasets/user_reviews_worked.csv.gz')\n",
    "df_steam_games = pd.read_csv('../datasets/steam_games_worked.csv.gz')"
   ]
  },
  {
   "cell_type": "markdown",
   "metadata": {},
   "source": [
    "Seleccionamos las columnas que vamos a usar"
   ]
  },
  {
   "cell_type": "code",
   "execution_count": 66,
   "metadata": {},
   "outputs": [],
   "source": [
    "df_steam_games = df_steam_games[['id','title']]"
   ]
  },
  {
   "cell_type": "markdown",
   "metadata": {},
   "source": [
    "combinamos los df"
   ]
  },
  {
   "cell_type": "code",
   "execution_count": 67,
   "metadata": {},
   "outputs": [],
   "source": [
    "funtion_three_merge_df = pd.merge(df_steam_games, df_user_reviews, left_on='id', right_on='item_id')"
   ]
  },
  {
   "cell_type": "code",
   "execution_count": 68,
   "metadata": {},
   "outputs": [],
   "source": [
    "funtion_three_merge_df = funtion_three_merge_df[['title', 'year', 'recommend', 'sentiment_analysis']]"
   ]
  },
  {
   "cell_type": "markdown",
   "metadata": {},
   "source": [
    "Guardamos el df solo con la informacion necesaria para la consulta"
   ]
  },
  {
   "cell_type": "code",
   "execution_count": 74,
   "metadata": {},
   "outputs": [],
   "source": [
    "funtion_three_merge_df .to_csv('../datasets/UsersRecommend_UsersNotRecommend.csv.gz', index=False)"
   ]
  },
  {
   "cell_type": "code",
   "execution_count": 75,
   "metadata": {},
   "outputs": [],
   "source": [
    "def UsersRecommend(anio: int):\n",
    "\n",
    "    '''Esta función el top 3 de juegos MÁS recomendados por usuarios para el año dado. (reviews.recommend = \n",
    "    True y comentarios positivos/neutrales) Ejemplo de retorno: [{\"Puesto 1\" : X}, {\"Puesto 2\" : Y},{\"Puesto 3\" : Z}]'''\n",
    "\n",
    "    user_reviews = pd.read_csv('../datasets/UsersRecommend_UsersNotRecommend.csv.gz')\n",
    "   \n",
    "    # Paso 1: Filtrar el DataFrame para el año dado\n",
    "    reviews_anio = user_reviews[user_reviews['year'] == anio]\n",
    "    \n",
    "    if reviews_anio.empty:\n",
    "        return {\"mensaje\": \"No hay revisiones para el año proporcionado.\"}\n",
    "\n",
    "    # Paso 2: Filtrar para incluir solo revisiones recomendadas y con sentimiento positivo o neutral\n",
    "    relevant_reviews = reviews_anio[(reviews_anio['recommend'] == True) & (reviews_anio['sentiment_analysis'].isin([1, 2]))]\n",
    "\n",
    "    if relevant_reviews.empty:\n",
    "        return {\"mensaje\": \"No hay revisiones recomendadas y con sentimiento positivo o neutral para el año proporcionado.\"}\n",
    "\n",
    "    # Paso 3: Contar la cantidad de recomendaciones para cada juego\n",
    "    game_recommendation_counts = relevant_reviews.groupby('title')['recommend'].count().reset_index()\n",
    "\n",
    "    # Paso 4: Ordenar los juegos en función de la cantidad de recomendaciones\n",
    "    top_games = game_recommendation_counts.sort_values(by='recommend', ascending=False)\n",
    "\n",
    "    # Paso 5: Seleccionar los tres juegos principales\n",
    "    top_3_games = top_games.head(3)\n",
    "\n",
    "    # Paso 6: Crear el formato de retorno deseado\n",
    "    result = [{\"Puesto {}: {}\".format(i + 1, title)} for i, title in enumerate(top_3_games['title'][:3])]\n",
    "\n",
    "    return result"
   ]
  },
  {
   "cell_type": "code",
   "execution_count": 76,
   "metadata": {},
   "outputs": [
    {
     "name": "stdout",
     "output_type": "stream",
     "text": [
      "[{'Puesto 1: Team Fortress 2'}, {'Puesto 2: Terraria'}, {\"Puesto 3: Garry's Mod\"}]\n"
     ]
    }
   ],
   "source": [
    "# Ejemplo de uso\n",
    "resultado = UsersRecommend(2012)\n",
    "print(resultado)"
   ]
  },
  {
   "cell_type": "markdown",
   "metadata": {},
   "source": [
    "Funcion 4"
   ]
  },
  {
   "cell_type": "markdown",
   "metadata": {},
   "source": [
    "Esta fncion es muy similar a la anterior, asi que la copiaremos a adaptaremos a lo que queremos "
   ]
  },
  {
   "cell_type": "code",
   "execution_count": 77,
   "metadata": {},
   "outputs": [],
   "source": [
    "def UsersNotRecommend(anio: int):\n",
    "\n",
    "    '''Esta función el top 3 de juegos MENOS recomendados por usuarios para el año dado. (reviews.recommend = False y comentarios negativos)    \n",
    "    Ejemplo de retorno: [{\"Puesto 1\" : X}, {\"Puesto 2\" : Y},{\"Puesto 3\" : Z}]'''\n",
    "\n",
    "    user_reviews = pd.read_csv('../datasets/UsersRecommend_UsersNotRecommend.csv.gz')\n",
    "   \n",
    "    # Paso 1: Filtrar el DataFrame para el año dado\n",
    "    reviews_anio = user_reviews[user_reviews['year'] == anio]\n",
    "    \n",
    "    if reviews_anio.empty:\n",
    "        return {\"mensaje\": \"No hay revisiones para el año proporcionado.\"}\n",
    "\n",
    "    # Paso 2: Filtrar para incluir solo revisiones no recomendadas y con sentimiento negativos\n",
    "    relevant_reviews = reviews_anio[(reviews_anio['recommend'] == False) & (reviews_anio['sentiment_analysis'] == 0)]\n",
    "\n",
    "    if relevant_reviews.empty:\n",
    "        return {\"mensaje\": \"No hay revisiones no recomendadas y con sentimiento negativos para el año proporcionado.\"}\n",
    "\n",
    "    # Paso 3: Contar la cantidad de recomendaciones negativas para cada juego\n",
    "    game_recommendation_counts = relevant_reviews.groupby('title')['recommend'].count().reset_index()\n",
    "\n",
    "    # Paso 4: Ordenar los juegos en función de la cantidad de recomendaciones\n",
    "    top_games = game_recommendation_counts.sort_values(by='recommend', ascending=False)\n",
    "\n",
    "    # Paso 5: Seleccionar los tres juegos principales\n",
    "    top_3_games = top_games.head(3)\n",
    "\n",
    "    # Paso 6: Crear el formato de retorno deseado\n",
    "    result = [{\"Puesto {}: {}\".format(i + 1, title)} for i, title in enumerate(top_3_games['title'][:3])]\n",
    "\n",
    "    return result"
   ]
  },
  {
   "cell_type": "code",
   "execution_count": 78,
   "metadata": {},
   "outputs": [
    {
     "name": "stdout",
     "output_type": "stream",
     "text": [
      "[{'Puesto 1: Call of Duty®: Black Ops II'}, {'Puesto 2: Red Faction®: Armageddon™'}, {'Puesto 3: Resident Evil: Operation Raccoon City'}]\n"
     ]
    }
   ],
   "source": [
    "resultado = UsersNotRecommend(2012)\n",
    "print(resultado)"
   ]
  },
  {
   "cell_type": "markdown",
   "metadata": {},
   "source": [
    "Funcion 5"
   ]
  },
  {
   "cell_type": "code",
   "execution_count": 82,
   "metadata": {},
   "outputs": [],
   "source": [
    "df_steam_games = pd.read_csv('../datasets/steam_games_worked.csv.gz')\n",
    "df_user_reviews = pd.read_csv('../datasets/user_reviews_worked.csv.gz')"
   ]
  },
  {
   "cell_type": "code",
   "execution_count": 83,
   "metadata": {},
   "outputs": [],
   "source": [
    "df_user_reviews = df_user_reviews[['item_id', 'user_id', 'sentiment_analysis']]"
   ]
  },
  {
   "cell_type": "code",
   "execution_count": 84,
   "metadata": {},
   "outputs": [],
   "source": [
    "df_steam_games = df_steam_games[['id', 'year']]"
   ]
  },
  {
   "cell_type": "code",
   "execution_count": 85,
   "metadata": {},
   "outputs": [],
   "source": [
    "fumntion_five_merge_df = pd.merge(df_user_reviews, df_steam_games, left_on='item_id', right_on='id')"
   ]
  },
  {
   "cell_type": "markdown",
   "metadata": {},
   "source": [
    "Guardamos en csv"
   ]
  },
  {
   "cell_type": "code",
   "execution_count": 86,
   "metadata": {},
   "outputs": [
    {
     "data": {
      "text/html": [
       "<div>\n",
       "<style scoped>\n",
       "    .dataframe tbody tr th:only-of-type {\n",
       "        vertical-align: middle;\n",
       "    }\n",
       "\n",
       "    .dataframe tbody tr th {\n",
       "        vertical-align: top;\n",
       "    }\n",
       "\n",
       "    .dataframe thead th {\n",
       "        text-align: right;\n",
       "    }\n",
       "</style>\n",
       "<table border=\"1\" class=\"dataframe\">\n",
       "  <thead>\n",
       "    <tr style=\"text-align: right;\">\n",
       "      <th></th>\n",
       "      <th>item_id</th>\n",
       "      <th>user_id</th>\n",
       "      <th>sentiment_analysis</th>\n",
       "      <th>id</th>\n",
       "      <th>year</th>\n",
       "    </tr>\n",
       "  </thead>\n",
       "  <tbody>\n",
       "    <tr>\n",
       "      <th>0</th>\n",
       "      <td>1250</td>\n",
       "      <td>76561197970982479</td>\n",
       "      <td>2</td>\n",
       "      <td>1250</td>\n",
       "      <td>2009.0</td>\n",
       "    </tr>\n",
       "    <tr>\n",
       "      <th>1</th>\n",
       "      <td>1250</td>\n",
       "      <td>death-hunter</td>\n",
       "      <td>2</td>\n",
       "      <td>1250</td>\n",
       "      <td>2009.0</td>\n",
       "    </tr>\n",
       "    <tr>\n",
       "      <th>2</th>\n",
       "      <td>1250</td>\n",
       "      <td>DJKamBer</td>\n",
       "      <td>0</td>\n",
       "      <td>1250</td>\n",
       "      <td>2009.0</td>\n",
       "    </tr>\n",
       "    <tr>\n",
       "      <th>3</th>\n",
       "      <td>1250</td>\n",
       "      <td>diego9031</td>\n",
       "      <td>1</td>\n",
       "      <td>1250</td>\n",
       "      <td>2009.0</td>\n",
       "    </tr>\n",
       "    <tr>\n",
       "      <th>4</th>\n",
       "      <td>1250</td>\n",
       "      <td>76561198081962345</td>\n",
       "      <td>1</td>\n",
       "      <td>1250</td>\n",
       "      <td>2009.0</td>\n",
       "    </tr>\n",
       "  </tbody>\n",
       "</table>\n",
       "</div>"
      ],
      "text/plain": [
       "   item_id            user_id  sentiment_analysis    id    year\n",
       "0     1250  76561197970982479                   2  1250  2009.0\n",
       "1     1250       death-hunter                   2  1250  2009.0\n",
       "2     1250           DJKamBer                   0  1250  2009.0\n",
       "3     1250          diego9031                   1  1250  2009.0\n",
       "4     1250  76561198081962345                   1  1250  2009.0"
      ]
     },
     "execution_count": 86,
     "metadata": {},
     "output_type": "execute_result"
    }
   ],
   "source": [
    "fumntion_five_merge_df.head()"
   ]
  },
  {
   "cell_type": "code",
   "execution_count": 87,
   "metadata": {},
   "outputs": [],
   "source": [
    "# Convertir la columna sentiment_analysis a tipo de datos cadena (str)\n",
    "fumntion_five_merge_df['sentiment_analysis'] = fumntion_five_merge_df['sentiment_analysis'].astype(str)"
   ]
  },
  {
   "cell_type": "code",
   "execution_count": 88,
   "metadata": {},
   "outputs": [],
   "source": [
    "fumntion_five_merge_df.to_csv('../datasets/sentiment_analysis.csv.gz', index=False)"
   ]
  },
  {
   "cell_type": "code",
   "execution_count": 89,
   "metadata": {},
   "outputs": [],
   "source": [
    "def sentiment_analysis(anio: int):\n",
    "    '''Esta funcion según el año de lanzamiento, se devuelve una lista con la cantidad de \n",
    "    registros de reseñas de usuarios que se encuentren categorizados con un análisis de \n",
    "    sentimiento.Ejemplo de retorno: {Negative = 182, Neutral = 120, Positive = 278}'''\n",
    "\n",
    "    merge_df5 = pd.read_csv('../datasets/sentiment_analysis.csv.gz')\n",
    "\n",
    "    # Filtrar el DataFrame por el año proporcionado\n",
    "    relevant_reviews = merge_df5[merge_df5['year'] == anio]\n",
    "\n",
    "    # Contar la cantidad de registros para cada categoría de análisis de sentimiento\n",
    "    sentiment_counts = relevant_reviews.groupby('sentiment_analysis').size()\n",
    "\n",
    "     # Convertir los índices a tipos de datos estándar (int)\n",
    "    sentiment_counts.index = sentiment_counts.index.astype(int)\n",
    "\n",
    "    # Crear el diccionario de resultados\n",
    "    result = {\n",
    "        'Negative': int(sentiment_counts.get(0, 2)),\n",
    "        'Neutral': int(sentiment_counts.get(1, 2)),\n",
    "        'Positive': int(sentiment_counts.get(2, 3))\n",
    "    }\n",
    "    \n",
    "\n",
    "    return  result"
   ]
  },
  {
   "cell_type": "code",
   "execution_count": 90,
   "metadata": {},
   "outputs": [
    {
     "name": "stdout",
     "output_type": "stream",
     "text": [
      "{'Negative': 359, 'Neutral': 419, 'Positive': 1292}\n"
     ]
    }
   ],
   "source": [
    "resultado = sentiment_analysis(2017)\n",
    "print(resultado)"
   ]
  }
 ],
 "metadata": {
  "kernelspec": {
   "display_name": "proyect-env",
   "language": "python",
   "name": "proyect-env"
  },
  "language_info": {
   "codemirror_mode": {
    "name": "ipython",
    "version": 3
   },
   "file_extension": ".py",
   "mimetype": "text/x-python",
   "name": "python",
   "nbconvert_exporter": "python",
   "pygments_lexer": "ipython3",
   "version": "3.11.6"
  }
 },
 "nbformat": 4,
 "nbformat_minor": 2
}
